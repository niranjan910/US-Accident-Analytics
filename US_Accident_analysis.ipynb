{
 "cells": [
  {
   "cell_type": "markdown",
   "id": "30813d2b-e03e-464a-85c7-ded46cb1f027",
   "metadata": {},
   "source": [
    "## *Loading Environment*"
   ]
  },
  {
   "cell_type": "code",
   "execution_count": 1,
   "id": "64b9ceb8-aaf2-48fa-b471-4ffc91ec0622",
   "metadata": {},
   "outputs": [],
   "source": [
    "import pandas as pd\n",
    "import numpy as np\n",
    "import matplotlib.pyplot as plt\n",
    "import seaborn as sns\n",
    "from scipy import stats\n",
    "\n",
    "\n",
    "plt.style.use('ggplot')\n",
    "pd.set_option('display.max_columns', 200)\n",
    "pd.set_option('display.float_format', lambda x: '%.3f' % x)  \n",
    "sns.set_palette('viridis')\n",
    "sns.set_style(\"dark\")\n",
    "import warnings\n",
    "warnings.filterwarnings(\"ignore\")"
   ]
  },
  {
   "cell_type": "markdown",
   "id": "c0f2f2e6-854e-481e-b076-b4db6579192e",
   "metadata": {},
   "source": [
    "## *Loading Data*"
   ]
  },
  {
   "cell_type": "code",
   "execution_count": 2,
   "id": "ecc71ffe-c6b0-4000-9c5c-61c8f9acb600",
   "metadata": {},
   "outputs": [],
   "source": [
    "df = pd.read_csv(\"US_Accidents_March23.csv\")"
   ]
  },
  {
   "cell_type": "markdown",
   "id": "ca9a69e8-a2d1-4540-a7dc-59f401f627c4",
   "metadata": {},
   "source": [
    "## *Data Exploration*"
   ]
  },
  {
   "cell_type": "code",
   "execution_count": 4,
   "id": "bfe08dbe-2c83-49db-abf0-53f98619a7b1",
   "metadata": {},
   "outputs": [
    {
     "data": {
      "text/plain": [
       "(7728394, 46)"
      ]
     },
     "execution_count": 4,
     "metadata": {},
     "output_type": "execute_result"
    }
   ],
   "source": [
    "df.shape"
   ]
  },
  {
   "cell_type": "code",
   "execution_count": 5,
   "id": "bdbce207-658f-4c21-9291-9ebdb48ebd0a",
   "metadata": {},
   "outputs": [
    {
     "data": {
      "text/plain": [
       "['ID',\n",
       " 'Source',\n",
       " 'Severity',\n",
       " 'Start_Time',\n",
       " 'End_Time',\n",
       " 'Start_Lat',\n",
       " 'Start_Lng',\n",
       " 'End_Lat',\n",
       " 'End_Lng',\n",
       " 'Distance(mi)',\n",
       " 'Description',\n",
       " 'Street',\n",
       " 'City',\n",
       " 'County',\n",
       " 'State',\n",
       " 'Zipcode',\n",
       " 'Country',\n",
       " 'Timezone',\n",
       " 'Airport_Code',\n",
       " 'Weather_Timestamp',\n",
       " 'Temperature(F)',\n",
       " 'Wind_Chill(F)',\n",
       " 'Humidity(%)',\n",
       " 'Pressure(in)',\n",
       " 'Visibility(mi)',\n",
       " 'Wind_Direction',\n",
       " 'Wind_Speed(mph)',\n",
       " 'Precipitation(in)',\n",
       " 'Weather_Condition',\n",
       " 'Amenity',\n",
       " 'Bump',\n",
       " 'Crossing',\n",
       " 'Give_Way',\n",
       " 'Junction',\n",
       " 'No_Exit',\n",
       " 'Railway',\n",
       " 'Roundabout',\n",
       " 'Station',\n",
       " 'Stop',\n",
       " 'Traffic_Calming',\n",
       " 'Traffic_Signal',\n",
       " 'Turning_Loop',\n",
       " 'Sunrise_Sunset',\n",
       " 'Civil_Twilight',\n",
       " 'Nautical_Twilight',\n",
       " 'Astronomical_Twilight']"
      ]
     },
     "execution_count": 5,
     "metadata": {},
     "output_type": "execute_result"
    }
   ],
   "source": [
    "df.columns.tolist()"
   ]
  },
  {
   "cell_type": "code",
   "execution_count": 5,
   "id": "d74272db-9229-42ed-8deb-2c269f8fb891",
   "metadata": {},
   "outputs": [
    {
     "data": {
      "text/plain": [
       "ID                        object\n",
       "Source                    object\n",
       "Severity                   int64\n",
       "Start_Time                object\n",
       "End_Time                  object\n",
       "Start_Lat                float64\n",
       "Start_Lng                float64\n",
       "End_Lat                  float64\n",
       "End_Lng                  float64\n",
       "Distance(mi)             float64\n",
       "Description               object\n",
       "Street                    object\n",
       "City                      object\n",
       "County                    object\n",
       "State                     object\n",
       "Zipcode                   object\n",
       "Country                   object\n",
       "Timezone                  object\n",
       "Airport_Code              object\n",
       "Weather_Timestamp         object\n",
       "Temperature(F)           float64\n",
       "Wind_Chill(F)            float64\n",
       "Humidity(%)              float64\n",
       "Pressure(in)             float64\n",
       "Visibility(mi)           float64\n",
       "Wind_Direction            object\n",
       "Wind_Speed(mph)          float64\n",
       "Precipitation(in)        float64\n",
       "Weather_Condition         object\n",
       "Amenity                     bool\n",
       "Bump                        bool\n",
       "Crossing                    bool\n",
       "Give_Way                    bool\n",
       "Junction                    bool\n",
       "No_Exit                     bool\n",
       "Railway                     bool\n",
       "Roundabout                  bool\n",
       "Station                     bool\n",
       "Stop                        bool\n",
       "Traffic_Calming             bool\n",
       "Traffic_Signal              bool\n",
       "Turning_Loop                bool\n",
       "Sunrise_Sunset            object\n",
       "Civil_Twilight            object\n",
       "Nautical_Twilight         object\n",
       "Astronomical_Twilight     object\n",
       "dtype: object"
      ]
     },
     "execution_count": 5,
     "metadata": {},
     "output_type": "execute_result"
    }
   ],
   "source": [
    "df.dtypes"
   ]
  },
  {
   "cell_type": "code",
   "execution_count": 6,
   "id": "1b461386-fe95-4a1c-96de-56ed047143eb",
   "metadata": {},
   "outputs": [
    {
     "data": {
      "text/html": [
       "<div>\n",
       "<style scoped>\n",
       "    .dataframe tbody tr th:only-of-type {\n",
       "        vertical-align: middle;\n",
       "    }\n",
       "\n",
       "    .dataframe tbody tr th {\n",
       "        vertical-align: top;\n",
       "    }\n",
       "\n",
       "    .dataframe thead th {\n",
       "        text-align: right;\n",
       "    }\n",
       "</style>\n",
       "<table border=\"1\" class=\"dataframe\">\n",
       "  <thead>\n",
       "    <tr style=\"text-align: right;\">\n",
       "      <th></th>\n",
       "      <th>ID</th>\n",
       "      <th>Source</th>\n",
       "      <th>Severity</th>\n",
       "      <th>Start_Time</th>\n",
       "      <th>End_Time</th>\n",
       "      <th>Start_Lat</th>\n",
       "      <th>Start_Lng</th>\n",
       "      <th>End_Lat</th>\n",
       "      <th>End_Lng</th>\n",
       "      <th>Distance(mi)</th>\n",
       "      <th>Description</th>\n",
       "      <th>Street</th>\n",
       "      <th>City</th>\n",
       "      <th>County</th>\n",
       "      <th>State</th>\n",
       "      <th>Zipcode</th>\n",
       "      <th>Country</th>\n",
       "      <th>Timezone</th>\n",
       "      <th>Airport_Code</th>\n",
       "      <th>Weather_Timestamp</th>\n",
       "      <th>Temperature(F)</th>\n",
       "      <th>Wind_Chill(F)</th>\n",
       "      <th>Humidity(%)</th>\n",
       "      <th>Pressure(in)</th>\n",
       "      <th>Visibility(mi)</th>\n",
       "      <th>Wind_Direction</th>\n",
       "      <th>Wind_Speed(mph)</th>\n",
       "      <th>Precipitation(in)</th>\n",
       "      <th>Weather_Condition</th>\n",
       "      <th>Amenity</th>\n",
       "      <th>Bump</th>\n",
       "      <th>Crossing</th>\n",
       "      <th>Give_Way</th>\n",
       "      <th>Junction</th>\n",
       "      <th>No_Exit</th>\n",
       "      <th>Railway</th>\n",
       "      <th>Roundabout</th>\n",
       "      <th>Station</th>\n",
       "      <th>Stop</th>\n",
       "      <th>Traffic_Calming</th>\n",
       "      <th>Traffic_Signal</th>\n",
       "      <th>Turning_Loop</th>\n",
       "      <th>Sunrise_Sunset</th>\n",
       "      <th>Civil_Twilight</th>\n",
       "      <th>Nautical_Twilight</th>\n",
       "      <th>Astronomical_Twilight</th>\n",
       "    </tr>\n",
       "  </thead>\n",
       "  <tbody>\n",
       "    <tr>\n",
       "      <th>0</th>\n",
       "      <td>A-1</td>\n",
       "      <td>Source2</td>\n",
       "      <td>3</td>\n",
       "      <td>2016-02-08 05:46:00</td>\n",
       "      <td>2016-02-08 11:00:00</td>\n",
       "      <td>39.865</td>\n",
       "      <td>-84.059</td>\n",
       "      <td>NaN</td>\n",
       "      <td>NaN</td>\n",
       "      <td>0.010</td>\n",
       "      <td>Right lane blocked due to accident on I-70 Eas...</td>\n",
       "      <td>I-70 E</td>\n",
       "      <td>Dayton</td>\n",
       "      <td>Montgomery</td>\n",
       "      <td>OH</td>\n",
       "      <td>45424</td>\n",
       "      <td>US</td>\n",
       "      <td>US/Eastern</td>\n",
       "      <td>KFFO</td>\n",
       "      <td>2016-02-08 05:58:00</td>\n",
       "      <td>36.900</td>\n",
       "      <td>NaN</td>\n",
       "      <td>91.000</td>\n",
       "      <td>29.680</td>\n",
       "      <td>10.000</td>\n",
       "      <td>Calm</td>\n",
       "      <td>NaN</td>\n",
       "      <td>0.020</td>\n",
       "      <td>Light Rain</td>\n",
       "      <td>False</td>\n",
       "      <td>False</td>\n",
       "      <td>False</td>\n",
       "      <td>False</td>\n",
       "      <td>False</td>\n",
       "      <td>False</td>\n",
       "      <td>False</td>\n",
       "      <td>False</td>\n",
       "      <td>False</td>\n",
       "      <td>False</td>\n",
       "      <td>False</td>\n",
       "      <td>False</td>\n",
       "      <td>False</td>\n",
       "      <td>Night</td>\n",
       "      <td>Night</td>\n",
       "      <td>Night</td>\n",
       "      <td>Night</td>\n",
       "    </tr>\n",
       "    <tr>\n",
       "      <th>1</th>\n",
       "      <td>A-2</td>\n",
       "      <td>Source2</td>\n",
       "      <td>2</td>\n",
       "      <td>2016-02-08 06:07:59</td>\n",
       "      <td>2016-02-08 06:37:59</td>\n",
       "      <td>39.928</td>\n",
       "      <td>-82.831</td>\n",
       "      <td>NaN</td>\n",
       "      <td>NaN</td>\n",
       "      <td>0.010</td>\n",
       "      <td>Accident on Brice Rd at Tussing Rd. Expect del...</td>\n",
       "      <td>Brice Rd</td>\n",
       "      <td>Reynoldsburg</td>\n",
       "      <td>Franklin</td>\n",
       "      <td>OH</td>\n",
       "      <td>43068-3402</td>\n",
       "      <td>US</td>\n",
       "      <td>US/Eastern</td>\n",
       "      <td>KCMH</td>\n",
       "      <td>2016-02-08 05:51:00</td>\n",
       "      <td>37.900</td>\n",
       "      <td>NaN</td>\n",
       "      <td>100.000</td>\n",
       "      <td>29.650</td>\n",
       "      <td>10.000</td>\n",
       "      <td>Calm</td>\n",
       "      <td>NaN</td>\n",
       "      <td>0.000</td>\n",
       "      <td>Light Rain</td>\n",
       "      <td>False</td>\n",
       "      <td>False</td>\n",
       "      <td>False</td>\n",
       "      <td>False</td>\n",
       "      <td>False</td>\n",
       "      <td>False</td>\n",
       "      <td>False</td>\n",
       "      <td>False</td>\n",
       "      <td>False</td>\n",
       "      <td>False</td>\n",
       "      <td>False</td>\n",
       "      <td>False</td>\n",
       "      <td>False</td>\n",
       "      <td>Night</td>\n",
       "      <td>Night</td>\n",
       "      <td>Night</td>\n",
       "      <td>Day</td>\n",
       "    </tr>\n",
       "    <tr>\n",
       "      <th>2</th>\n",
       "      <td>A-3</td>\n",
       "      <td>Source2</td>\n",
       "      <td>2</td>\n",
       "      <td>2016-02-08 06:49:27</td>\n",
       "      <td>2016-02-08 07:19:27</td>\n",
       "      <td>39.063</td>\n",
       "      <td>-84.033</td>\n",
       "      <td>NaN</td>\n",
       "      <td>NaN</td>\n",
       "      <td>0.010</td>\n",
       "      <td>Accident on OH-32 State Route 32 Westbound at ...</td>\n",
       "      <td>State Route 32</td>\n",
       "      <td>Williamsburg</td>\n",
       "      <td>Clermont</td>\n",
       "      <td>OH</td>\n",
       "      <td>45176</td>\n",
       "      <td>US</td>\n",
       "      <td>US/Eastern</td>\n",
       "      <td>KI69</td>\n",
       "      <td>2016-02-08 06:56:00</td>\n",
       "      <td>36.000</td>\n",
       "      <td>33.300</td>\n",
       "      <td>100.000</td>\n",
       "      <td>29.670</td>\n",
       "      <td>10.000</td>\n",
       "      <td>SW</td>\n",
       "      <td>3.500</td>\n",
       "      <td>NaN</td>\n",
       "      <td>Overcast</td>\n",
       "      <td>False</td>\n",
       "      <td>False</td>\n",
       "      <td>False</td>\n",
       "      <td>False</td>\n",
       "      <td>False</td>\n",
       "      <td>False</td>\n",
       "      <td>False</td>\n",
       "      <td>False</td>\n",
       "      <td>False</td>\n",
       "      <td>False</td>\n",
       "      <td>False</td>\n",
       "      <td>True</td>\n",
       "      <td>False</td>\n",
       "      <td>Night</td>\n",
       "      <td>Night</td>\n",
       "      <td>Day</td>\n",
       "      <td>Day</td>\n",
       "    </tr>\n",
       "  </tbody>\n",
       "</table>\n",
       "</div>"
      ],
      "text/plain": [
       "    ID   Source  Severity           Start_Time             End_Time  \\\n",
       "0  A-1  Source2         3  2016-02-08 05:46:00  2016-02-08 11:00:00   \n",
       "1  A-2  Source2         2  2016-02-08 06:07:59  2016-02-08 06:37:59   \n",
       "2  A-3  Source2         2  2016-02-08 06:49:27  2016-02-08 07:19:27   \n",
       "\n",
       "   Start_Lat  Start_Lng  End_Lat  End_Lng  Distance(mi)  \\\n",
       "0     39.865    -84.059      NaN      NaN         0.010   \n",
       "1     39.928    -82.831      NaN      NaN         0.010   \n",
       "2     39.063    -84.033      NaN      NaN         0.010   \n",
       "\n",
       "                                         Description          Street  \\\n",
       "0  Right lane blocked due to accident on I-70 Eas...          I-70 E   \n",
       "1  Accident on Brice Rd at Tussing Rd. Expect del...        Brice Rd   \n",
       "2  Accident on OH-32 State Route 32 Westbound at ...  State Route 32   \n",
       "\n",
       "           City      County State     Zipcode Country    Timezone  \\\n",
       "0        Dayton  Montgomery    OH       45424      US  US/Eastern   \n",
       "1  Reynoldsburg    Franklin    OH  43068-3402      US  US/Eastern   \n",
       "2  Williamsburg    Clermont    OH       45176      US  US/Eastern   \n",
       "\n",
       "  Airport_Code    Weather_Timestamp  Temperature(F)  Wind_Chill(F)  \\\n",
       "0         KFFO  2016-02-08 05:58:00          36.900            NaN   \n",
       "1         KCMH  2016-02-08 05:51:00          37.900            NaN   \n",
       "2         KI69  2016-02-08 06:56:00          36.000         33.300   \n",
       "\n",
       "   Humidity(%)  Pressure(in)  Visibility(mi) Wind_Direction  Wind_Speed(mph)  \\\n",
       "0       91.000        29.680          10.000           Calm              NaN   \n",
       "1      100.000        29.650          10.000           Calm              NaN   \n",
       "2      100.000        29.670          10.000             SW            3.500   \n",
       "\n",
       "   Precipitation(in) Weather_Condition  Amenity   Bump  Crossing  Give_Way  \\\n",
       "0              0.020        Light Rain    False  False     False     False   \n",
       "1              0.000        Light Rain    False  False     False     False   \n",
       "2                NaN          Overcast    False  False     False     False   \n",
       "\n",
       "   Junction  No_Exit  Railway  Roundabout  Station   Stop  Traffic_Calming  \\\n",
       "0     False    False    False       False    False  False            False   \n",
       "1     False    False    False       False    False  False            False   \n",
       "2     False    False    False       False    False  False            False   \n",
       "\n",
       "   Traffic_Signal  Turning_Loop Sunrise_Sunset Civil_Twilight  \\\n",
       "0           False         False          Night          Night   \n",
       "1           False         False          Night          Night   \n",
       "2            True         False          Night          Night   \n",
       "\n",
       "  Nautical_Twilight Astronomical_Twilight  \n",
       "0             Night                 Night  \n",
       "1             Night                   Day  \n",
       "2               Day                   Day  "
      ]
     },
     "execution_count": 6,
     "metadata": {},
     "output_type": "execute_result"
    }
   ],
   "source": [
    "df.head(3)"
   ]
  },
  {
   "cell_type": "markdown",
   "id": "21b00677-2052-4802-9301-9c752ed12da1",
   "metadata": {},
   "source": [
    "**To identify the number of numerial columns**"
   ]
  },
  {
   "cell_type": "code",
   "execution_count": 7,
   "id": "97701777-5433-4974-bdec-c828447bdf25",
   "metadata": {},
   "outputs": [],
   "source": [
    "numerics = [\"int16\", \"int32\", \"int64\", \"float16\", \"float32\", \"float64\"]\n",
    "numeric_df = df.select_dtypes(include=numerics)\n",
    "num_numeric_cols = len(numeric_df.columns)"
   ]
  },
  {
   "cell_type": "code",
   "execution_count": 8,
   "id": "aa6b258d-89a4-48c2-ac26-659e8e78625f",
   "metadata": {},
   "outputs": [
    {
     "data": {
      "text/plain": [
       "13"
      ]
     },
     "execution_count": 8,
     "metadata": {},
     "output_type": "execute_result"
    }
   ],
   "source": [
    "num_numeric_cols"
   ]
  },
  {
   "cell_type": "markdown",
   "id": "73a44c6b-d145-4c7c-a7f4-ecfe0164e445",
   "metadata": {},
   "source": [
    "**Exploring the missing Values**"
   ]
  },
  {
   "cell_type": "code",
   "execution_count": 9,
   "id": "9cdcb0c9-c426-4df4-adef-f2619bd340a8",
   "metadata": {},
   "outputs": [
    {
     "data": {
      "text/plain": [
       "End_Lat                 0.440\n",
       "End_Lng                 0.440\n",
       "Precipitation(in)       0.285\n",
       "Wind_Chill(F)           0.259\n",
       "Wind_Speed(mph)         0.074\n",
       "Visibility(mi)          0.023\n",
       "Wind_Direction          0.023\n",
       "Humidity(%)             0.023\n",
       "Weather_Condition       0.022\n",
       "Temperature(F)          0.021\n",
       "Pressure(in)            0.018\n",
       "Weather_Timestamp       0.016\n",
       "Nautical_Twilight       0.003\n",
       "Civil_Twilight          0.003\n",
       "Sunrise_Sunset          0.003\n",
       "Astronomical_Twilight   0.003\n",
       "Airport_Code            0.003\n",
       "Street                  0.001\n",
       "Timezone                0.001\n",
       "Zipcode                 0.000\n",
       "City                    0.000\n",
       "Description             0.000\n",
       "Traffic_Signal          0.000\n",
       "Roundabout              0.000\n",
       "Station                 0.000\n",
       "Stop                    0.000\n",
       "Traffic_Calming         0.000\n",
       "Country                 0.000\n",
       "Turning_Loop            0.000\n",
       "No_Exit                 0.000\n",
       "End_Time                0.000\n",
       "Start_Time              0.000\n",
       "Severity                0.000\n",
       "Railway                 0.000\n",
       "Crossing                0.000\n",
       "Junction                0.000\n",
       "Give_Way                0.000\n",
       "Bump                    0.000\n",
       "Amenity                 0.000\n",
       "Start_Lat               0.000\n",
       "Start_Lng               0.000\n",
       "Distance(mi)            0.000\n",
       "Source                  0.000\n",
       "County                  0.000\n",
       "State                   0.000\n",
       "ID                      0.000\n",
       "dtype: float64"
      ]
     },
     "execution_count": 9,
     "metadata": {},
     "output_type": "execute_result"
    }
   ],
   "source": [
    "missing_percentages = (df.isna().sum() / len(df)).sort_values(ascending=False)\n",
    "missing_percentages"
   ]
  },
  {
   "cell_type": "code",
   "execution_count": 10,
   "id": "98ca1926-9868-417d-8a11-d64e2399faf7",
   "metadata": {},
   "outputs": [
    {
     "data": {
      "text/plain": [
       "End_Lat                 0.440\n",
       "End_Lng                 0.440\n",
       "Precipitation(in)       0.285\n",
       "Wind_Chill(F)           0.259\n",
       "Wind_Speed(mph)         0.074\n",
       "Visibility(mi)          0.023\n",
       "Wind_Direction          0.023\n",
       "Humidity(%)             0.023\n",
       "Weather_Condition       0.022\n",
       "Temperature(F)          0.021\n",
       "Pressure(in)            0.018\n",
       "Weather_Timestamp       0.016\n",
       "Nautical_Twilight       0.003\n",
       "Civil_Twilight          0.003\n",
       "Sunrise_Sunset          0.003\n",
       "Astronomical_Twilight   0.003\n",
       "Airport_Code            0.003\n",
       "Street                  0.001\n",
       "Timezone                0.001\n",
       "Zipcode                 0.000\n",
       "City                    0.000\n",
       "Description             0.000\n",
       "dtype: float64"
      ]
     },
     "execution_count": 10,
     "metadata": {},
     "output_type": "execute_result"
    }
   ],
   "source": [
    "missing_percentages[missing_percentages != 0]"
   ]
  },
  {
   "cell_type": "code",
   "execution_count": 11,
   "id": "0b8a85a0-f86c-4d5d-94dc-e652830725cd",
   "metadata": {},
   "outputs": [
    {
     "data": {
      "text/plain": [
       "pandas.core.series.Series"
      ]
     },
     "execution_count": 11,
     "metadata": {},
     "output_type": "execute_result"
    }
   ],
   "source": [
    "type(missing_percentages)"
   ]
  },
  {
   "cell_type": "code",
   "execution_count": 12,
   "id": "2fd59a44-9d0c-4d53-a36e-72536248f4b9",
   "metadata": {},
   "outputs": [
    {
     "data": {
      "image/png": "[encoded data removed]",
      "text/plain": [
       "<Figure size 640x480 with 1 Axes>"
      ]
     },
     "metadata": {},
     "output_type": "display_data"
    }
   ],
   "source": [
    "non_zero_missing = missing_percentages[missing_percentages != 0]\n",
    "non_zero_missing.plot(kind=\"barh\")\n",
    "plt.show()"
   ]
  },
  {
   "cell_type": "code",
   "execution_count": 21,
   "id": "13cb9890-b361-486e-8963-7e3a0c4484d5",
   "metadata": {},
   "outputs": [
    {
     "data": {
      "text/plain": [
       "Index(['ID', 'Source', 'Severity', 'Start_Time', 'End_Time', 'Start_Lat',\n",
       "       'Start_Lng', 'End_Lat', 'End_Lng', 'Distance(mi)', 'Description',\n",
       "       'Street', 'City', 'County', 'State', 'Zipcode', 'Country', 'Timezone',\n",
       "       'Airport_Code', 'Weather_Timestamp', 'Temperature(F)', 'Wind_Chill(F)',\n",
       "       'Humidity(%)', 'Pressure(in)', 'Visibility(mi)', 'Wind_Direction',\n",
       "       'Wind_Speed(mph)', 'Precipitation(in)', 'Weather_Condition', 'Amenity',\n",
       "       'Bump', 'Crossing', 'Give_Way', 'Junction', 'No_Exit', 'Railway',\n",
       "       'Roundabout', 'Station', 'Stop', 'Traffic_Calming', 'Traffic_Signal',\n",
       "       'Turning_Loop', 'Sunrise_Sunset', 'Civil_Twilight', 'Nautical_Twilight',\n",
       "       'Astronomical_Twilight'],\n",
       "      dtype='object')"
      ]
     },
     "execution_count": 21,
     "metadata": {},
     "output_type": "execute_result"
    }
   ],
   "source": [
    "df.columns"
   ]
  },
  {
   "cell_type": "markdown",
   "id": "07b407b6-5900-4225-9a1b-fa1ea42a0430",
   "metadata": {},
   "source": [
    "### Data Exploration of each Column\n",
    "- To know the insight of each column"
   ]
  },
  {
   "cell_type": "markdown",
   "id": "ce0dd1ef-cbd1-4fcb-804d-b29ca6e516e4",
   "metadata": {
    "jp-MarkdownHeadingCollapsed": true
   },
   "source": [
    "### *Source*"
   ]
  },
  {
   "cell_type": "code",
   "execution_count": 11,
   "id": "8d0630df-5aba-4576-9e7a-fd8f04a9fde4",
   "metadata": {},
   "outputs": [
    {
     "data": {
      "text/plain": [
       "Source\n",
       "Source1    4325632\n",
       "Source2    3305373\n",
       "Source3      97389\n",
       "Name: count, dtype: int64"
      ]
     },
     "execution_count": 11,
     "metadata": {},
     "output_type": "execute_result"
    }
   ],
   "source": [
    "df[\"Source\"].value_counts()"
   ]
  },
  {
   "cell_type": "markdown",
   "id": "e75f6354-ef3f-4b79-91b9-2e310a424e78",
   "metadata": {
    "jp-MarkdownHeadingCollapsed": true
   },
   "source": [
    "### *Severity*"
   ]
  },
  {
   "cell_type": "code",
   "execution_count": 74,
   "id": "36bd710f-de39-41ed-88cc-1e8eed686d34",
   "metadata": {},
   "outputs": [
    {
     "data": {
      "text/plain": [
       "Severity\n",
       "2    6156981\n",
       "3    1299337\n",
       "4     204710\n",
       "1      67366\n",
       "Name: count, dtype: int64"
      ]
     },
     "execution_count": 74,
     "metadata": {},
     "output_type": "execute_result"
    }
   ],
   "source": [
    "df[\"Severity\"].value_counts()"
   ]
  },
  {
   "cell_type": "code",
   "execution_count": 9,
   "id": "3fb69f33-e01e-4f44-b414-d9d2c2a19cdd",
   "metadata": {},
   "outputs": [
    {
     "data": {
      "image/png": "[encoded data removed]",
      "text/plain": [
       "<Figure size 640x480 with 1 Axes>"
      ]
     },
     "metadata": {},
     "output_type": "display_data"
    }
   ],
   "source": [
    "sns.countplot(x='Severity', data=df)\n",
    "plt.show()"
   ]
  },
  {
   "cell_type": "markdown",
   "id": "5187d518-ddf2-4dfb-b78f-c78d3e51cd0f",
   "metadata": {},
   "source": [
    "### *Start Time*"
   ]
  },
  {
   "cell_type": "code",
   "execution_count": 75,
   "id": "1c3788da-6766-40ab-bbf9-219240be01a5",
   "metadata": {},
   "outputs": [
    {
     "data": {
      "text/plain": [
       "Start_Time\n",
       "2021-01-26 16:16:13    253\n",
       "2021-01-26 16:17:33    170\n",
       "2021-02-16 06:42:43    157\n",
       "2021-11-21 18:37:51    125\n",
       "2020-12-16 13:53:25     99\n",
       "                      ... \n",
       "2019-06-17 08:32:29      1\n",
       "2019-06-17 08:12:49      1\n",
       "2019-06-17 08:05:59      1\n",
       "2019-06-17 07:58:15      1\n",
       "2019-08-23 18:52:06      1\n",
       "Name: count, Length: 5801064, dtype: int64"
      ]
     },
     "execution_count": 75,
     "metadata": {},
     "output_type": "execute_result"
    }
   ],
   "source": [
    "df[\"Start_Time\"].value_counts()"
   ]
  },
  {
   "cell_type": "code",
   "execution_count": 16,
   "id": "d45c7bb9-9f2a-4df1-987a-ae2972daa6be",
   "metadata": {},
   "outputs": [],
   "source": [
    "df['Start_Time'] = pd.to_datetime(df['Start_Time'], format='mixed')"
   ]
  },
  {
   "cell_type": "code",
   "execution_count": 87,
   "id": "48daf29d-3639-43a8-9580-ef505ad28f38",
   "metadata": {},
   "outputs": [
    {
     "data": {
      "text/plain": [
       "Timestamp('2016-02-08 05:46:00')"
      ]
     },
     "execution_count": 87,
     "metadata": {},
     "output_type": "execute_result"
    }
   ],
   "source": [
    "df.Start_Time[0]"
   ]
  },
  {
   "cell_type": "code",
   "execution_count": 17,
   "id": "023c0384-371e-4167-8bf6-b21b595f68d7",
   "metadata": {},
   "outputs": [
    {
     "data": {
      "text/plain": [
       "0           5\n",
       "1           6\n",
       "2           6\n",
       "3           7\n",
       "4           7\n",
       "           ..\n",
       "7728389    18\n",
       "7728390    19\n",
       "7728391    19\n",
       "7728392    19\n",
       "7728393    18\n",
       "Name: Start_Time, Length: 7728394, dtype: int32"
      ]
     },
     "execution_count": 17,
     "metadata": {},
     "output_type": "execute_result"
    }
   ],
   "source": [
    "df.Start_Time.dt.hour"
   ]
  },
  {
   "cell_type": "code",
   "execution_count": 18,
   "id": "55cb8d38-7ed7-448c-a3cf-ad9c1209361f",
   "metadata": {},
   "outputs": [
    {
     "data": {
      "image/png": "[encoded data removed]",
      "text/plain": [
       "<Figure size 640x480 with 1 Axes>"
      ]
     },
     "metadata": {},
     "output_type": "display_data"
    }
   ],
   "source": [
    "sns.distplot(df.Start_Time.dt.hour, bins = 24, kde = False, norm_hist = True)\n",
    "plt.title('Accident Start Time (24 Hr format)')\n",
    "plt.show()"
   ]
  },
  {
   "cell_type": "markdown",
   "id": "6bfd2bcf-62df-4f25-a42e-90d689469943",
   "metadata": {},
   "source": [
    "Observation (Which time the accident is high)\n",
    "- Most accident occured btw 7 - 9 am in the morning\n",
    "- Most accident accured btw 3 - 5 pm in the afternoon \n",
    "- possibly most of the victims are from working baground "
   ]
  },
  {
   "cell_type": "code",
   "execution_count": 19,
   "id": "e4eed222-3b36-4ab5-a01b-a9aafe6a2220",
   "metadata": {},
   "outputs": [
    {
     "data": {
      "image/png": "[encoded data removed]",
      "text/plain": [
       "<Figure size 640x480 with 1 Axes>"
      ]
     },
     "metadata": {},
     "output_type": "display_data"
    }
   ],
   "source": [
    "sns.distplot(df.Start_Time.dt.dayofweek, bins = 7, kde = False, norm_hist = True)\n",
    "plt.title('Accident by Week')\n",
    "plt.show()"
   ]
  },
  {
   "cell_type": "markdown",
   "id": "659748e9-7431-45f8-8260-30e3869ce782",
   "metadata": {},
   "source": [
    "Obsevation ( Which day of the weak experiences most accidents)\n",
    "- weekends have less accidents notes\n",
    "- Most accident occured on Friday\n",
    "- possibly the working sectors might be in some hurry"
   ]
  },
  {
   "cell_type": "markdown",
   "id": "4f4b8eac-54c1-4c9e-870c-a4805cc47532",
   "metadata": {},
   "source": [
    "Since most accident occoured on Friday i will try to find at which time on Friday there was major accidents"
   ]
  },
  {
   "cell_type": "code",
   "execution_count": 20,
   "id": "19b4a728-b4e7-4c8c-9860-0a2a7b8d2f47",
   "metadata": {},
   "outputs": [
    {
     "data": {
      "image/png": "[encoded data removed]",
      "text/plain": [
       "<Figure size 640x480 with 1 Axes>"
      ]
     },
     "metadata": {},
     "output_type": "display_data"
    }
   ],
   "source": [
    "sundays_start_time = df['Start_Time'][df['Start_Time'].dt.dayofweek == 4]\n",
    "sns.distplot(sundays_start_time.dt.hour, bins=24, kde=False, norm_hist=True)\n",
    "plt.title('Accident on Friday by Time (Hr)')\n",
    "plt.show()"
   ]
  },
  {
   "cell_type": "markdown",
   "id": "627cb7f1-8ae3-42b0-a16a-be4881d93e1b",
   "metadata": {},
   "source": [
    "Observation (On what time most accidents are noted on Friday)\n",
    "- Most accidents can be seen in the moring (7-9 am) and in the evening (3-5 pm)\n",
    "- moring is having very low number of accidents as compared to other times."
   ]
  },
  {
   "cell_type": "code",
   "execution_count": 21,
   "id": "9ab7ebfe-431c-4ef3-9d1d-2cdf461f8566",
   "metadata": {},
   "outputs": [
    {
     "data": {
      "image/png": "[encoded data removed]",
      "text/plain": [
       "<Figure size 640x480 with 1 Axes>"
      ]
     },
     "metadata": {},
     "output_type": "display_data"
    }
   ],
   "source": [
    "sundays_start_time = df['Start_Time'][df['Start_Time'].dt.dayofweek == 6]\n",
    "sns.distplot(sundays_start_time.dt.hour, bins=24, kde=False, norm_hist=True)\n",
    "plt.title('Accident on Sunday by Time (Hr)')\n",
    "plt.show()"
   ]
  },
  {
   "cell_type": "code",
   "execution_count": 22,
   "id": "7c1d2f3e-13b1-4eb7-9392-cae5ea331446",
   "metadata": {},
   "outputs": [
    {
     "data": {
      "image/png": "[encoded data removed]",
      "text/plain": [
       "<Figure size 640x480 with 1 Axes>"
      ]
     },
     "metadata": {},
     "output_type": "display_data"
    }
   ],
   "source": [
    "sns.distplot(df.Start_Time.dt.month, bins=12, kde=False, norm_hist=True)\n",
    "plt.title('Monthly basis accident')\n",
    "plt.show()"
   ]
  },
  {
   "cell_type": "markdown",
   "id": "31060b55-ac68-46ba-99ee-1f2f1c22d3cc",
   "metadata": {},
   "source": [
    "observations made (Which motnth is having high number of accidents)\n",
    "- most of the accidents are on winter months.\n",
    "- Least number of accidents are observed on summer months. "
   ]
  },
  {
   "cell_type": "code",
   "execution_count": 100,
   "id": "c7a65f2d-6b39-4b48-bdfb-45e27bb662cc",
   "metadata": {},
   "outputs": [
    {
     "data": {
      "text/plain": [
       "0          2016\n",
       "1          2016\n",
       "2          2016\n",
       "3          2016\n",
       "4          2016\n",
       "           ... \n",
       "7728389    2019\n",
       "7728390    2019\n",
       "7728391    2019\n",
       "7728392    2019\n",
       "7728393    2019\n",
       "Name: Start_Time, Length: 7728394, dtype: int32"
      ]
     },
     "execution_count": 100,
     "metadata": {},
     "output_type": "execute_result"
    }
   ],
   "source": [
    "df.Start_Time.dt.year"
   ]
  },
  {
   "cell_type": "code",
   "execution_count": 25,
   "id": "eb752752-8755-400c-b94d-e6d97f1ec105",
   "metadata": {},
   "outputs": [
    {
     "data": {
      "image/png": "[encoded data removed]",
      "text/plain": [
       "<Figure size 640x480 with 1 Axes>"
      ]
     },
     "metadata": {},
     "output_type": "display_data"
    }
   ],
   "source": [
    "df_2019 = df[df.Start_Time.dt.year == 2019]\n",
    "sns.distplot(df_2019.Start_Time.dt.month, bins=12, kde=False, norm_hist=True)\n",
    "plt.title('Accidents on 2019')\n",
    "plt.show()"
   ]
  },
  {
   "cell_type": "code",
   "execution_count": 112,
   "id": "391402db-9d07-40a6-8bbe-1bc6c59d42d0",
   "metadata": {},
   "outputs": [
    {
     "data": {
      "text/plain": [
       "Text(0.5, 1.0, 'Accidents on 2018')"
      ]
     },
     "execution_count": 112,
     "metadata": {},
     "output_type": "execute_result"
    },
    {
     "data": {
      "image/png": "[encoded data removed]",
      "text/plain": [
       "<Figure size 640x480 with 1 Axes>"
      ]
     },
     "metadata": {},
     "output_type": "display_data"
    }
   ],
   "source": [
    "df_2019 = df[df.Start_Time.dt.year == 2018]\n",
    "sns.distplot(df_2019.Start_Time.dt.month, bins=12, kde=False, norm_hist=True)\n",
    "plt.title('Accidents on 2018')"
   ]
  },
  {
   "cell_type": "code",
   "execution_count": 113,
   "id": "74807f92-019c-4f71-bd25-b152d9950e81",
   "metadata": {},
   "outputs": [
    {
     "data": {
      "text/plain": [
       "Text(0.5, 1.0, 'Accidents on 2017')"
      ]
     },
     "execution_count": 113,
     "metadata": {},
     "output_type": "execute_result"
    },
    {
     "data": {
      "image/png": "[encoded data removed]",
      "text/plain": [
       "<Figure size 640x480 with 1 Axes>"
      ]
     },
     "metadata": {},
     "output_type": "display_data"
    }
   ],
   "source": [
    "df_2019 = df[df.Start_Time.dt.year == 2017]\n",
    "sns.distplot(df_2019.Start_Time.dt.month, bins=12, kde=False, norm_hist=True)\n",
    "plt.title('Accidents on 2017')"
   ]
  },
  {
   "cell_type": "code",
   "execution_count": 23,
   "id": "e9e10c60-151f-432f-8989-758d837a775f",
   "metadata": {},
   "outputs": [
    {
     "data": {
      "image/png": "[encoded data removed]",
      "text/plain": [
       "<Figure size 640x480 with 1 Axes>"
      ]
     },
     "metadata": {},
     "output_type": "display_data"
    }
   ],
   "source": [
    "df_2019 = df[df.Start_Time.dt.year == 2016]\n",
    "sns.distplot(df_2019.Start_Time.dt.month, bins=12, kde=False, norm_hist=True)\n",
    "plt.title('Accidents on 2016')\n",
    "plt.show()"
   ]
  },
  {
   "cell_type": "code",
   "execution_count": 24,
   "id": "9ef4b775-0a1c-40fc-91e7-feb89c1f47ac",
   "metadata": {},
   "outputs": [
    {
     "data": {
      "image/png": "[encoded data removed]",
      "text/plain": [
       "<Figure size 640x480 with 1 Axes>"
      ]
     },
     "metadata": {},
     "output_type": "display_data"
    }
   ],
   "source": [
    "df_2019 = df[df.Start_Time.dt.year == 2020]\n",
    "sns.distplot(df_2019.Start_Time.dt.month, bins=12, kde=False, norm_hist=True)\n",
    "plt.title('Accidents on 2020')\n",
    "plt.show()"
   ]
  },
  {
   "cell_type": "code",
   "execution_count": 31,
   "id": "1c577736-3c5c-4ef1-8d8d-2d35e2adcab8",
   "metadata": {},
   "outputs": [
    {
     "data": {
      "image/png": "[encoded data removed]",
      "text/plain": [
       "<Figure size 640x480 with 1 Axes>"
      ]
     },
     "metadata": {},
     "output_type": "display_data"
    }
   ],
   "source": [
    "df_2022 = df[df.Start_Time.dt.year == 2022]\n",
    "sns.distplot(df_2022.Start_Time.dt.month, bins=12, kde=False, norm_hist=True)\n",
    "plt.title('Accidents on 2022')\n",
    "plt.savefig('my_plot.png', dpi=300)\n",
    "plt.show()"
   ]
  },
  {
   "cell_type": "markdown",
   "id": "685ec466-f015-4160-af94-4a6db3471b93",
   "metadata": {},
   "source": [
    "Obervation (At what time on Sunday there is major number of accidents)\n",
    "- There is a high number of accidents from 12-5 pm \n",
    "- Least number of accidents can be noted in the morning btw 2-5 am "
   ]
  },
  {
   "cell_type": "markdown",
   "id": "4cf9026b-2f7f-4224-b8b5-52bacd3a7f94",
   "metadata": {},
   "source": [
    "### *End Time*"
   ]
  },
  {
   "cell_type": "code",
   "execution_count": 76,
   "id": "02becbb7-dd85-4fb6-bc97-74f7da7a57a3",
   "metadata": {},
   "outputs": [
    {
     "data": {
      "text/plain": [
       "End_Time\n",
       "2021-11-22 08:00:00    112\n",
       "2017-05-15 15:22:55     73\n",
       "2019-10-26 09:14:51     49\n",
       "2020-02-14 00:00:00     46\n",
       "2018-11-25 02:51:02     46\n",
       "                      ... \n",
       "2019-01-27 03:35:12      1\n",
       "2019-01-27 03:01:18      1\n",
       "2019-01-27 02:32:22      1\n",
       "2019-01-27 02:29:26      1\n",
       "2019-08-23 19:21:31      1\n",
       "Name: count, Length: 6705355, dtype: int64"
      ]
     },
     "execution_count": 76,
     "metadata": {},
     "output_type": "execute_result"
    }
   ],
   "source": [
    "df[\"End_Time\"].value_counts()"
   ]
  },
  {
   "cell_type": "code",
   "execution_count": 32,
   "id": "f65ae23c-67bc-4471-ba80-84ff0cb34b6f",
   "metadata": {},
   "outputs": [],
   "source": [
    "df['End_Time'] = pd.to_datetime(df['End_Time'], format='mixed')"
   ]
  },
  {
   "cell_type": "code",
   "execution_count": 33,
   "id": "a7222272-7463-47a3-80b7-4a4db2b3bc7a",
   "metadata": {},
   "outputs": [
    {
     "data": {
      "text/plain": [
       "0          11\n",
       "1           6\n",
       "2           7\n",
       "3           7\n",
       "4           8\n",
       "           ..\n",
       "7728389    18\n",
       "7728390    19\n",
       "7728391    19\n",
       "7728392    19\n",
       "7728393    19\n",
       "Name: End_Time, Length: 7728394, dtype: int32"
      ]
     },
     "execution_count": 33,
     "metadata": {},
     "output_type": "execute_result"
    }
   ],
   "source": [
    "df.End_Time.dt.hour"
   ]
  },
  {
   "cell_type": "code",
   "execution_count": 35,
   "id": "02fd2dfd-7665-436c-82e7-d7f8d73d09e7",
   "metadata": {},
   "outputs": [
    {
     "data": {
      "image/png": "[encoded data removed]",
      "text/plain": [
       "<Figure size 640x480 with 1 Axes>"
      ]
     },
     "metadata": {},
     "output_type": "display_data"
    }
   ],
   "source": [
    "sns.distplot(df.End_Time.dt.hour, bins = 24, kde = False, norm_hist = True)\n",
    "plt.title('Accident End Time (24 Hr format)')\n",
    "plt.show()"
   ]
  },
  {
   "cell_type": "code",
   "execution_count": 36,
   "id": "c16ecc45-ee3a-4896-b86c-6e8994273b39",
   "metadata": {},
   "outputs": [
    {
     "data": {
      "image/png": "[encoded data removed]",
      "text/plain": [
       "<Figure size 640x480 with 1 Axes>"
      ]
     },
     "metadata": {},
     "output_type": "display_data"
    }
   ],
   "source": [
    "sns.distplot(df.End_Time.dt.dayofweek, bins = 7, kde = False, norm_hist = True)\n",
    "plt.title('Accident End Time by Week')\n",
    "plt.show()"
   ]
  },
  {
   "cell_type": "markdown",
   "id": "1ad846a8-316d-44c6-b585-d231549148d4",
   "metadata": {},
   "source": [
    "There is not much difference btw the start time and end time so its better to dropp the end time as of now"
   ]
  },
  {
   "cell_type": "code",
   "execution_count": null,
   "id": "52188d84-10da-4443-b443-2a8665e61634",
   "metadata": {},
   "outputs": [],
   "source": []
  },
  {
   "cell_type": "code",
   "execution_count": 77,
   "id": "f6136eff-3c02-4ef4-bfde-450e4ba0dceb",
   "metadata": {},
   "outputs": [
    {
     "data": {
      "text/plain": [
       "Start_Lat\n",
       "37.808    570\n",
       "33.941    568\n",
       "34.859    545\n",
       "42.477    534\n",
       "33.745    533\n",
       "         ... \n",
       "40.855      1\n",
       "38.224      1\n",
       "41.525      1\n",
       "41.521      1\n",
       "34.239      1\n",
       "Name: count, Length: 2428358, dtype: int64"
      ]
     },
     "execution_count": 77,
     "metadata": {},
     "output_type": "execute_result"
    }
   ],
   "source": [
    "df[\"Start_Lat\"].value_counts()"
   ]
  },
  {
   "cell_type": "code",
   "execution_count": 78,
   "id": "6b463cdf-dc81-42f7-aa82-b2be3abd4c77",
   "metadata": {},
   "outputs": [
    {
     "data": {
      "text/plain": [
       "Start_Lng\n",
       "-122.367    578\n",
       "-118.097    562\n",
       "-82.260     545\n",
       "-84.390     534\n",
       "-83.112     534\n",
       "           ... \n",
       "-117.401      1\n",
       "-118.429      1\n",
       "-121.742      1\n",
       "-121.891      1\n",
       "-117.848      1\n",
       "Name: count, Length: 2482533, dtype: int64"
      ]
     },
     "execution_count": 78,
     "metadata": {},
     "output_type": "execute_result"
    }
   ],
   "source": [
    "df[\"Start_Lng\"].value_counts()"
   ]
  },
  {
   "cell_type": "markdown",
   "id": "a35e72c6-856f-4a35-a3bb-0c52e91dd6c1",
   "metadata": {},
   "source": [
    "### *Street*"
   ]
  },
  {
   "cell_type": "code",
   "execution_count": 79,
   "id": "2fc30b47-3a6c-4c93-978f-df1745ec7dc4",
   "metadata": {},
   "outputs": [
    {
     "data": {
      "text/plain": [
       "Street\n",
       "I-95 N                  78430\n",
       "I-95 S                  74528\n",
       "I-5 N                   71968\n",
       "I-10 E                  55572\n",
       "I-10 W                  53725\n",
       "                        ...  \n",
       "W Diamond Valley Dr         1\n",
       "S Jasper St                 1\n",
       "State RT 17 N               1\n",
       " S Lake Mary Jane Rd        1\n",
       "473-401 Cutoff Rd           1\n",
       "Name: count, Length: 336306, dtype: int64"
      ]
     },
     "execution_count": 79,
     "metadata": {},
     "output_type": "execute_result"
    }
   ],
   "source": [
    "df[\"Street\"].value_counts()"
   ]
  },
  {
   "cell_type": "code",
   "execution_count": 41,
   "id": "e6daef63-dec1-49d5-bcb4-aad4e1a67460",
   "metadata": {},
   "outputs": [
    {
     "data": {
      "text/plain": [
       "336306"
      ]
     },
     "execution_count": 41,
     "metadata": {},
     "output_type": "execute_result"
    }
   ],
   "source": [
    "df[\"Street\"].nunique()"
   ]
  },
  {
   "cell_type": "code",
   "execution_count": 44,
   "id": "c6ccb027-ec95-4e4c-ae41-9938e9c1cb27",
   "metadata": {},
   "outputs": [],
   "source": [
    "accident_in_top_20 = df[\"Street\"].value_counts().head(10)"
   ]
  },
  {
   "cell_type": "code",
   "execution_count": 50,
   "id": "ac7a43e2-f19f-41a5-a84f-96a1bd03ca82",
   "metadata": {},
   "outputs": [
    {
     "data": {
      "text/plain": [
       "<Axes: ylabel='Street'>"
      ]
     },
     "execution_count": 50,
     "metadata": {},
     "output_type": "execute_result"
    },
    {
     "data": {
      "image/png": "[encoded data removed]",
      "text/plain": [
       "<Figure size 640x480 with 1 Axes>"
      ]
     },
     "metadata": {},
     "output_type": "display_data"
    }
   ],
   "source": [
    "sns.barplot(x = accident_in_top_20.values, y = accident_in_top_20.index )"
   ]
  },
  {
   "cell_type": "code",
   "execution_count": 80,
   "id": "62f29c87-7405-4150-9cb5-3b03f58a933d",
   "metadata": {},
   "outputs": [
    {
     "data": {
      "text/plain": [
       "City\n",
       "Miami                           186917\n",
       "Houston                         169609\n",
       "Los Angeles                     156491\n",
       "Charlotte                       138652\n",
       "Dallas                          130939\n",
       "                                 ...  \n",
       "Benkelman                            1\n",
       "Old Appleton                         1\n",
       "Wildrose                             1\n",
       "Mc Nabb                              1\n",
       "American Fork-Pleasant Grove         1\n",
       "Name: count, Length: 13678, dtype: int64"
      ]
     },
     "execution_count": 80,
     "metadata": {},
     "output_type": "execute_result"
    }
   ],
   "source": [
    "df[\"City\"].value_counts()"
   ]
  },
  {
   "cell_type": "code",
   "execution_count": 81,
   "id": "ec0d7da9-19a4-427e-bf1a-9845f79729ed",
   "metadata": {},
   "outputs": [
    {
     "data": {
      "text/plain": [
       "County\n",
       "Los Angeles        526851\n",
       "Miami-Dade         251601\n",
       "Orange             241275\n",
       "Harris             181196\n",
       "Dallas             157024\n",
       "                    ...  \n",
       "Mclean                  1\n",
       "Poquoson (City)         1\n",
       "Dewitt                  1\n",
       "Frontier                1\n",
       "Ness                    1\n",
       "Name: count, Length: 1871, dtype: int64"
      ]
     },
     "execution_count": 81,
     "metadata": {},
     "output_type": "execute_result"
    }
   ],
   "source": [
    "df[\"County\"].value_counts()"
   ]
  },
  {
   "cell_type": "code",
   "execution_count": 82,
   "id": "8163ea17-c836-4160-bd21-04ec6d7e3b9d",
   "metadata": {},
   "outputs": [
    {
     "data": {
      "text/plain": [
       "State\n",
       "CA    1741433\n",
       "FL     880192\n",
       "TX     582837\n",
       "SC     382557\n",
       "NY     347960\n",
       "NC     338199\n",
       "VA     303301\n",
       "PA     296620\n",
       "MN     192084\n",
       "OR     179660\n",
       "AZ     170609\n",
       "GA     169234\n",
       "IL     168958\n",
       "TN     167388\n",
       "MI     162191\n",
       "LA     149701\n",
       "NJ     140719\n",
       "MD     140417\n",
       "OH     118115\n",
       "WA     108221\n",
       "AL     101044\n",
       "UT      97079\n",
       "CO      90885\n",
       "OK      83647\n",
       "MO      77323\n",
       "CT      71005\n",
       "IN      67224\n",
       "MA      61996\n",
       "WI      34688\n",
       "KY      32254\n",
       "NE      28870\n",
       "MT      28496\n",
       "IA      26307\n",
       "AR      22780\n",
       "NV      21665\n",
       "KS      20992\n",
       "DC      18630\n",
       "RI      16971\n",
       "MS      15181\n",
       "DE      14097\n",
       "WV      13793\n",
       "ID      11376\n",
       "NM      10325\n",
       "NH      10213\n",
       "WY       3757\n",
       "ND       3487\n",
       "ME       2698\n",
       "VT        926\n",
       "SD        289\n",
       "Name: count, dtype: int64"
      ]
     },
     "execution_count": 82,
     "metadata": {},
     "output_type": "execute_result"
    }
   ],
   "source": [
    "df[\"State\"].value_counts()"
   ]
  },
  {
   "cell_type": "code",
   "execution_count": 9,
   "id": "d09877f6-34c3-49b4-ac19-c42dbeb33edf",
   "metadata": {},
   "outputs": [
    {
     "data": {
      "text/plain": [
       "Timezone\n",
       "US/Eastern     3580167\n",
       "US/Pacific     2062984\n",
       "US/Central     1645616\n",
       "US/Mountain     431819\n",
       "Name: count, dtype: int64"
      ]
     },
     "execution_count": 9,
     "metadata": {},
     "output_type": "execute_result"
    }
   ],
   "source": [
    "df[\"Timezone\"].value_counts()"
   ]
  },
  {
   "cell_type": "code",
   "execution_count": 10,
   "id": "045e7bcb-a293-44a2-a479-505979985af7",
   "metadata": {},
   "outputs": [
    {
     "data": {
      "text/plain": [
       "Weather_Timestamp\n",
       "2022-03-13 01:53:00    1311\n",
       "2021-01-26 15:53:00     651\n",
       "2022-05-13 16:53:00     558\n",
       "2022-03-13 01:55:00     545\n",
       "2021-01-15 22:53:00     521\n",
       "                       ... \n",
       "2018-08-31 14:01:00       1\n",
       "2018-08-31 11:58:00       1\n",
       "2018-08-31 10:36:00       1\n",
       "2018-08-31 05:30:00       1\n",
       "2019-08-23 01:20:00       1\n",
       "Name: count, Length: 941331, dtype: int64"
      ]
     },
     "execution_count": 10,
     "metadata": {},
     "output_type": "execute_result"
    }
   ],
   "source": [
    "df[\"Weather_Timestamp\"].value_counts()"
   ]
  },
  {
   "cell_type": "code",
   "execution_count": 12,
   "id": "79a4a07f-55ad-4987-97e7-7ced720b92fc",
   "metadata": {},
   "outputs": [
    {
     "data": {
      "text/plain": [
       "Temperature(F)\n",
       "77.000     170991\n",
       "73.000     170898\n",
       "68.000     163767\n",
       "72.000     160498\n",
       "75.000     158448\n",
       "            ...  \n",
       "1.600           1\n",
       "-21.500         1\n",
       "127.000         1\n",
       "158.000         1\n",
       "132.600         1\n",
       "Name: count, Length: 860, dtype: int64"
      ]
     },
     "execution_count": 12,
     "metadata": {},
     "output_type": "execute_result"
    }
   ],
   "source": [
    "df[\"Temperature(F)\"].value_counts()"
   ]
  },
  {
   "cell_type": "code",
   "execution_count": 16,
   "id": "78264ef9-e1ed-465a-b26b-e9b801350464",
   "metadata": {},
   "outputs": [
    {
     "data": {
      "text/plain": [
       "Weather_Condition\n",
       "Fair                         2560802\n",
       "Mostly Cloudy                1016195\n",
       "Cloudy                        817082\n",
       "Clear                         808743\n",
       "Partly Cloudy                 698972\n",
       "                              ...   \n",
       "Heavy Sleet / Windy                1\n",
       "Sand / Windy                       1\n",
       "Heavy Rain Shower / Windy          1\n",
       "Blowing Snow Nearby                1\n",
       "Drifting Snow                      1\n",
       "Name: count, Length: 144, dtype: int64"
      ]
     },
     "execution_count": 16,
     "metadata": {},
     "output_type": "execute_result"
    }
   ],
   "source": [
    "df[\"Weather_Condition\"].value_counts()"
   ]
  },
  {
   "cell_type": "code",
   "execution_count": 18,
   "id": "c751f9c7-f2fc-4ee3-9a1d-cdb74a5154ab",
   "metadata": {},
   "outputs": [
    {
     "data": {
      "text/plain": [
       "Amenity\n",
       "False    7632060\n",
       "True       96334\n",
       "Name: count, dtype: int64"
      ]
     },
     "execution_count": 18,
     "metadata": {},
     "output_type": "execute_result"
    }
   ],
   "source": [
    "df[\"Amenity\"].value_counts()"
   ]
  },
  {
   "cell_type": "code",
   "execution_count": 19,
   "id": "807ff421-7415-4343-a766-b6687eab5b56",
   "metadata": {},
   "outputs": [
    {
     "data": {
      "text/plain": [
       "Bump\n",
       "False    7724880\n",
       "True        3514\n",
       "Name: count, dtype: int64"
      ]
     },
     "execution_count": 19,
     "metadata": {},
     "output_type": "execute_result"
    }
   ],
   "source": [
    "df[\"Bump\"].value_counts()"
   ]
  },
  {
   "cell_type": "code",
   "execution_count": 20,
   "id": "c4afa7b0-36bf-4b99-8c34-b8344cfff466",
   "metadata": {},
   "outputs": [
    {
     "data": {
      "text/plain": [
       "Crossing\n",
       "False    6854631\n",
       "True      873763\n",
       "Name: count, dtype: int64"
      ]
     },
     "execution_count": 20,
     "metadata": {},
     "output_type": "execute_result"
    }
   ],
   "source": [
    "df[\"Crossing\"].value_counts()"
   ]
  },
  {
   "cell_type": "code",
   "execution_count": 21,
   "id": "473ca610-308d-4ffb-9f53-60b409c8ff12",
   "metadata": {},
   "outputs": [
    {
     "data": {
      "text/plain": [
       "Give_Way\n",
       "False    7691812\n",
       "True       36582\n",
       "Name: count, dtype: int64"
      ]
     },
     "execution_count": 21,
     "metadata": {},
     "output_type": "execute_result"
    }
   ],
   "source": [
    "df[\"Give_Way\"].value_counts()"
   ]
  },
  {
   "cell_type": "code",
   "execution_count": 24,
   "id": "01eddcf8-d0c5-4a32-8c2b-4b644dfbf4e1",
   "metadata": {},
   "outputs": [
    {
     "data": {
      "text/plain": [
       "No_Exit\n",
       "False    7708849\n",
       "True       19545\n",
       "Name: count, dtype: int64"
      ]
     },
     "execution_count": 24,
     "metadata": {},
     "output_type": "execute_result"
    }
   ],
   "source": [
    "df[\"No_Exit\"].value_counts()"
   ]
  },
  {
   "cell_type": "code",
   "execution_count": 25,
   "id": "322840f7-a0df-4dc0-aa9b-09fa38fd8cb7",
   "metadata": {},
   "outputs": [
    {
     "data": {
      "text/plain": [
       "Railway\n",
       "False    7661415\n",
       "True       66979\n",
       "Name: count, dtype: int64"
      ]
     },
     "execution_count": 25,
     "metadata": {},
     "output_type": "execute_result"
    }
   ],
   "source": [
    "df[\"Railway\"].value_counts()"
   ]
  },
  {
   "cell_type": "code",
   "execution_count": 26,
   "id": "7b943772-021c-41b9-996b-48d556cb2abc",
   "metadata": {},
   "outputs": [
    {
     "data": {
      "text/plain": [
       "Roundabout\n",
       "False    7728145\n",
       "True         249\n",
       "Name: count, dtype: int64"
      ]
     },
     "execution_count": 26,
     "metadata": {},
     "output_type": "execute_result"
    }
   ],
   "source": [
    "df[\"Roundabout\"].value_counts()"
   ]
  },
  {
   "cell_type": "code",
   "execution_count": 27,
   "id": "f769e27e-015a-4746-a4b5-bf71bb6aaa13",
   "metadata": {},
   "outputs": [
    {
     "data": {
      "text/plain": [
       "Station\n",
       "False    7526493\n",
       "True      201901\n",
       "Name: count, dtype: int64"
      ]
     },
     "execution_count": 27,
     "metadata": {},
     "output_type": "execute_result"
    }
   ],
   "source": [
    "df[\"Station\"].value_counts()"
   ]
  },
  {
   "cell_type": "code",
   "execution_count": 28,
   "id": "7fc68cfb-be8e-4ce8-a2bb-ea75be2ccfd2",
   "metadata": {},
   "outputs": [
    {
     "data": {
      "text/plain": [
       "Stop\n",
       "False    7514023\n",
       "True      214371\n",
       "Name: count, dtype: int64"
      ]
     },
     "execution_count": 28,
     "metadata": {},
     "output_type": "execute_result"
    }
   ],
   "source": [
    "df[\"Stop\"].value_counts()"
   ]
  },
  {
   "cell_type": "code",
   "execution_count": 29,
   "id": "7c142cd0-2990-4964-822f-79ea78b1d580",
   "metadata": {},
   "outputs": [
    {
     "data": {
      "text/plain": [
       "Traffic_Calming\n",
       "False    7720796\n",
       "True        7598\n",
       "Name: count, dtype: int64"
      ]
     },
     "execution_count": 29,
     "metadata": {},
     "output_type": "execute_result"
    }
   ],
   "source": [
    "df[\"Traffic_Calming\"].value_counts()"
   ]
  },
  {
   "cell_type": "code",
   "execution_count": 32,
   "id": "4aee0f85-0378-4caf-a8aa-a50ab0e7d336",
   "metadata": {},
   "outputs": [
    {
     "data": {
      "text/plain": [
       "Traffic_Signal\n",
       "False    6584622\n",
       "True     1143772\n",
       "Name: count, dtype: int64"
      ]
     },
     "execution_count": 32,
     "metadata": {},
     "output_type": "execute_result"
    }
   ],
   "source": [
    "df[\"Traffic_Signal\"].value_counts()"
   ]
  },
  {
   "cell_type": "code",
   "execution_count": 33,
   "id": "5105c390-f7e5-4404-b731-38c137b1fc6f",
   "metadata": {},
   "outputs": [
    {
     "data": {
      "text/plain": [
       "Turning_Loop\n",
       "False    7728394\n",
       "Name: count, dtype: int64"
      ]
     },
     "execution_count": 33,
     "metadata": {},
     "output_type": "execute_result"
    }
   ],
   "source": [
    "df[\"Turning_Loop\"].value_counts()"
   ]
  },
  {
   "cell_type": "code",
   "execution_count": 34,
   "id": "0d04b984-bdff-42da-b64b-d33345e336c3",
   "metadata": {},
   "outputs": [
    {
     "data": {
      "text/plain": [
       "Sunrise_Sunset\n",
       "Day      5334553\n",
       "Night    2370595\n",
       "Name: count, dtype: int64"
      ]
     },
     "execution_count": 34,
     "metadata": {},
     "output_type": "execute_result"
    }
   ],
   "source": [
    "df[\"Sunrise_Sunset\"].value_counts()"
   ]
  },
  {
   "cell_type": "markdown",
   "id": "3f57fec6-3b20-42ee-9aea-552c299a75ee",
   "metadata": {},
   "source": [
    "## *Data Cleaning*"
   ]
  },
  {
   "cell_type": "markdown",
   "id": "7164f8e2-2319-4403-9e11-8900caffedc2",
   "metadata": {},
   "source": [
    "**Droping the unnecessary columns as its making uuneasy to work with the data set**"
   ]
  },
  {
   "cell_type": "code",
   "execution_count": 3,
   "id": "e0f10b3e-b935-44d5-bd88-b5c4f75bedce",
   "metadata": {},
   "outputs": [],
   "source": [
    "df = df[[#'ID', \n",
    "       'Source', 'Severity', 'Start_Time', 'End_Time', 'Start_Lat',\n",
    "       'Start_Lng', #'End_Lat', 'End_Lng', 'Distance(mi)', 'Description',\n",
    "       'Street', 'City', 'County', 'State', #'Zipcode', 'Country', \n",
    "       'Timezone',\n",
    "       #'Airport_Code', \n",
    "       'Weather_Timestamp', 'Temperature(F)', 'Wind_Chill(F)',\n",
    "        # 'Humidity(%)', 'Pressure(in)', 'Visibility(mi)', 'Wind_Direction',\n",
    "       'Wind_Speed(mph)', #'Precipitation(in)', \n",
    "       'Weather_Condition', 'Amenity',\n",
    "       'Bump', 'Crossing', 'Give_Way', 'Junction', 'No_Exit', 'Railway',\n",
    "       'Roundabout', 'Station', 'Stop', 'Traffic_Calming', 'Traffic_Signal',\n",
    "       'Turning_Loop', 'Sunrise_Sunset'#, 'Civil_Twilight', 'Nautical_Twilight',\n",
    "        #'Astronomical_Twilight'\n",
    "        ]].copy()"
   ]
  },
  {
   "cell_type": "code",
   "execution_count": 4,
   "id": "62552152-1690-4032-b88b-41d9ab2f1f00",
   "metadata": {},
   "outputs": [],
   "source": [
    "df.drop('Source', axis=1, inplace=True)"
   ]
  },
  {
   "cell_type": "code",
   "execution_count": 5,
   "id": "d0271656-e7c3-465d-9a0d-3711f8b81ea2",
   "metadata": {},
   "outputs": [],
   "source": [
    "df.drop('End_Time', axis=1, inplace=True)"
   ]
  },
  {
   "cell_type": "code",
   "execution_count": 6,
   "id": "d9f2a52a-056f-454e-b17b-3b66e868670f",
   "metadata": {},
   "outputs": [],
   "source": [
    "df.drop('Wind_Chill(F)', axis=1, inplace=True)"
   ]
  },
  {
   "cell_type": "code",
   "execution_count": 7,
   "id": "1742c28a-d9c6-4167-9840-1ffbb844c547",
   "metadata": {},
   "outputs": [],
   "source": [
    "df.drop('Junction', axis=1, inplace=True)"
   ]
  },
  {
   "cell_type": "code",
   "execution_count": 14,
   "id": "b8193bfb-6108-4a74-80cf-f3540c523dc1",
   "metadata": {},
   "outputs": [],
   "source": [
    "df.drop('Wind_Speed(mph)', axis=1, inplace=True)"
   ]
  },
  {
   "cell_type": "code",
   "execution_count": 22,
   "id": "0be8eae3-6f79-46d5-a6f1-fa4db2ef9ae0",
   "metadata": {},
   "outputs": [],
   "source": [
    "df.drop('Give_Way', axis=1, inplace=True)"
   ]
  },
  {
   "cell_type": "code",
   "execution_count": 30,
   "id": "668efa8a-3a59-40a9-9037-657b2e986baf",
   "metadata": {},
   "outputs": [],
   "source": [
    "df.drop('Traffic_Calming', axis=1, inplace=True)"
   ]
  },
  {
   "cell_type": "code",
   "execution_count": 35,
   "id": "8802bfd0-f518-46ac-ac35-f166b9edfe9d",
   "metadata": {},
   "outputs": [
    {
     "data": {
      "text/plain": [
       "Index(['Severity', 'Start_Time', 'Start_Lat', 'Start_Lng', 'Street', 'City',\n",
       "       'County', 'State', 'Timezone', 'Weather_Timestamp', 'Temperature(F)',\n",
       "       'Weather_Condition', 'Amenity', 'Bump', 'Crossing', 'No_Exit',\n",
       "       'Railway', 'Roundabout', 'Station', 'Stop', 'Traffic_Signal',\n",
       "       'Turning_Loop', 'Sunrise_Sunset'],\n",
       "      dtype='object')"
      ]
     },
     "execution_count": 35,
     "metadata": {},
     "output_type": "execute_result"
    }
   ],
   "source": [
    "df.columns"
   ]
  },
  {
   "cell_type": "code",
   "execution_count": 37,
   "id": "12da8c5d-b358-4d41-941a-7746dc6be75f",
   "metadata": {},
   "outputs": [
    {
     "data": {
      "text/plain": [
       "(7728394, 23)"
      ]
     },
     "execution_count": 37,
     "metadata": {},
     "output_type": "execute_result"
    }
   ],
   "source": [
    "df.shape"
   ]
  },
  {
   "cell_type": "code",
   "execution_count": 45,
   "id": "0c706575-68b0-499a-a0ea-1a0ffc3112ab",
   "metadata": {},
   "outputs": [
    {
     "data": {
      "text/plain": [
       "Severity                  0\n",
       "Start_Time                0\n",
       "Start_Lat                 0\n",
       "Start_Lng                 0\n",
       "Street                10869\n",
       "City                    253\n",
       "County                    0\n",
       "State                     0\n",
       "Timezone               7808\n",
       "Weather_Timestamp    120228\n",
       "Temperature(F)       163853\n",
       "Weather_Condition    173459\n",
       "Amenity                   0\n",
       "Bump                      0\n",
       "Crossing                  0\n",
       "No_Exit                   0\n",
       "Railway                   0\n",
       "Roundabout                0\n",
       "Station                   0\n",
       "Stop                      0\n",
       "Traffic_Signal            0\n",
       "Turning_Loop              0\n",
       "Sunrise_Sunset        23246\n",
       "dtype: int64"
      ]
     },
     "execution_count": 45,
     "metadata": {},
     "output_type": "execute_result"
    }
   ],
   "source": [
    "df.isna().sum()"
   ]
  },
  {
   "cell_type": "markdown",
   "id": "c36b6c7d-8589-48fb-9631-5277783329d2",
   "metadata": {},
   "source": [
    "*Fixing the missing values*"
   ]
  },
  {
   "cell_type": "code",
   "execution_count": 48,
   "id": "cf808298-15af-4642-ac7d-3fd09ec56f84",
   "metadata": {},
   "outputs": [],
   "source": [
    "df[\"Street\"] = df[\"Street\"].fillna (df[\"Street\"]. mode( ) [0])\n",
    "df[\"City\"] = df[\"City\"].fillna (df[\"City\"]. mode( ) [0])\n",
    "df[\"Timezone\"] = df[\"Timezone\"].fillna (df[\"Timezone\"]. mode( ) [0])\n",
    "df[\"Temperature(F)\"] = df[\"Temperature(F)\"].fillna (df[\"Temperature(F)\"]. mean( ))\n",
    "df[\"Street\"] = df[\"Street\"].fillna (df[\"Street\"]. mode( ) [0])\n",
    "df[\"Sunrise_Sunset\"] = df[\"Sunrise_Sunset\"].fillna (df[\"Sunrise_Sunset\"]. mode( ) [0])"
   ]
  },
  {
   "cell_type": "code",
   "execution_count": 50,
   "id": "59df0ce3-d6e1-4d82-9f44-d61e2e9918ee",
   "metadata": {},
   "outputs": [],
   "source": [
    "df = df.sort_values('Start_Time') \n",
    "df['Start_Time'] = df['Start_Time'].fillna(method='ffill')"
   ]
  },
  {
   "cell_type": "code",
   "execution_count": 51,
   "id": "f4ae7eaf-b29f-4bf9-b9c3-8191b51f4d34",
   "metadata": {},
   "outputs": [
    {
     "data": {
      "text/plain": [
       "Severity                  0\n",
       "Start_Time                0\n",
       "Start_Lat                 0\n",
       "Start_Lng                 0\n",
       "Street                    0\n",
       "City                      0\n",
       "County                    0\n",
       "State                     0\n",
       "Timezone                  0\n",
       "Weather_Timestamp    120228\n",
       "Temperature(F)            0\n",
       "Weather_Condition         0\n",
       "Amenity                   0\n",
       "Bump                      0\n",
       "Crossing                  0\n",
       "No_Exit                   0\n",
       "Railway                   0\n",
       "Roundabout                0\n",
       "Station                   0\n",
       "Stop                      0\n",
       "Traffic_Signal            0\n",
       "Turning_Loop              0\n",
       "Sunrise_Sunset            0\n",
       "dtype: int64"
      ]
     },
     "execution_count": 51,
     "metadata": {},
     "output_type": "execute_result"
    }
   ],
   "source": [
    "df.isna().sum()"
   ]
  },
  {
   "cell_type": "markdown",
   "id": "d74889c1-926a-4eaf-a4b8-8f9ae7b7efdb",
   "metadata": {},
   "source": [
    "**Categorizing them as continous count categorical and timeseries variables**"
   ]
  },
  {
   "cell_type": "code",
   "execution_count": 41,
   "id": "c7e0bb92-c066-4540-8a7f-fbfda450a040",
   "metadata": {},
   "outputs": [],
   "source": [
    "continous = [\"Start_Lat\", \"Start_Lng\", \"Temperature(F)\"]\n",
    "count = [\"Severity\"]\n",
    "categorical = [\"Street\", \"City\",\"County\", \"State\", \"Timezone\", \"Weather_Condition\", \"Sunrise_Sunset\", \"Amenity\", \"Bump\", \"Crossing\", \"No_Exit\", \"Railway\", \"Roundabout\", \"Station\", \"Stop\", \"Traffic_Signal\", \"Turning_Loop\"]\n",
    "timeseries = [\"Start_Time\", \"Weather_Timestamp\"]"
   ]
  },
  {
   "cell_type": "code",
   "execution_count": 39,
   "id": "6eb1bff6-ffb5-4ad9-a614-6cde4c6a383b",
   "metadata": {},
   "outputs": [
    {
     "data": {
      "text/html": [
       "<div>\n",
       "<style scoped>\n",
       "    .dataframe tbody tr th:only-of-type {\n",
       "        vertical-align: middle;\n",
       "    }\n",
       "\n",
       "    .dataframe tbody tr th {\n",
       "        vertical-align: top;\n",
       "    }\n",
       "\n",
       "    .dataframe thead th {\n",
       "        text-align: right;\n",
       "    }\n",
       "</style>\n",
       "<table border=\"1\" class=\"dataframe\">\n",
       "  <thead>\n",
       "    <tr style=\"text-align: right;\">\n",
       "      <th></th>\n",
       "      <th>Start_Lat</th>\n",
       "      <th>Start_Lng</th>\n",
       "      <th>Temperature(F)</th>\n",
       "    </tr>\n",
       "  </thead>\n",
       "  <tbody>\n",
       "    <tr>\n",
       "      <th>count</th>\n",
       "      <td>7728394.000</td>\n",
       "      <td>7728394.000</td>\n",
       "      <td>7564541.000</td>\n",
       "    </tr>\n",
       "    <tr>\n",
       "      <th>mean</th>\n",
       "      <td>36.201</td>\n",
       "      <td>-94.703</td>\n",
       "      <td>61.663</td>\n",
       "    </tr>\n",
       "    <tr>\n",
       "      <th>std</th>\n",
       "      <td>5.076</td>\n",
       "      <td>17.392</td>\n",
       "      <td>19.014</td>\n",
       "    </tr>\n",
       "    <tr>\n",
       "      <th>min</th>\n",
       "      <td>24.555</td>\n",
       "      <td>-124.624</td>\n",
       "      <td>-89.000</td>\n",
       "    </tr>\n",
       "    <tr>\n",
       "      <th>25%</th>\n",
       "      <td>33.400</td>\n",
       "      <td>-117.219</td>\n",
       "      <td>49.000</td>\n",
       "    </tr>\n",
       "    <tr>\n",
       "      <th>50%</th>\n",
       "      <td>35.824</td>\n",
       "      <td>-87.767</td>\n",
       "      <td>64.000</td>\n",
       "    </tr>\n",
       "    <tr>\n",
       "      <th>75%</th>\n",
       "      <td>40.085</td>\n",
       "      <td>-80.354</td>\n",
       "      <td>76.000</td>\n",
       "    </tr>\n",
       "    <tr>\n",
       "      <th>max</th>\n",
       "      <td>49.002</td>\n",
       "      <td>-67.113</td>\n",
       "      <td>207.000</td>\n",
       "    </tr>\n",
       "  </tbody>\n",
       "</table>\n",
       "</div>"
      ],
      "text/plain": [
       "        Start_Lat   Start_Lng  Temperature(F)\n",
       "count 7728394.000 7728394.000     7564541.000\n",
       "mean       36.201     -94.703          61.663\n",
       "std         5.076      17.392          19.014\n",
       "min        24.555    -124.624         -89.000\n",
       "25%        33.400    -117.219          49.000\n",
       "50%        35.824     -87.767          64.000\n",
       "75%        40.085     -80.354          76.000\n",
       "max        49.002     -67.113         207.000"
      ]
     },
     "execution_count": 39,
     "metadata": {},
     "output_type": "execute_result"
    }
   ],
   "source": [
    "df[continous].describe()"
   ]
  },
  {
   "cell_type": "code",
   "execution_count": 42,
   "id": "89d920df-d7b4-4ef9-84f1-5124b944549a",
   "metadata": {},
   "outputs": [
    {
     "data": {
      "text/html": [
       "<div>\n",
       "<style scoped>\n",
       "    .dataframe tbody tr th:only-of-type {\n",
       "        vertical-align: middle;\n",
       "    }\n",
       "\n",
       "    .dataframe tbody tr th {\n",
       "        vertical-align: top;\n",
       "    }\n",
       "\n",
       "    .dataframe thead th {\n",
       "        text-align: right;\n",
       "    }\n",
       "</style>\n",
       "<table border=\"1\" class=\"dataframe\">\n",
       "  <thead>\n",
       "    <tr style=\"text-align: right;\">\n",
       "      <th></th>\n",
       "      <th>Street</th>\n",
       "      <th>City</th>\n",
       "      <th>County</th>\n",
       "      <th>State</th>\n",
       "      <th>Timezone</th>\n",
       "      <th>Weather_Condition</th>\n",
       "      <th>Sunrise_Sunset</th>\n",
       "      <th>Amenity</th>\n",
       "      <th>Bump</th>\n",
       "      <th>Crossing</th>\n",
       "      <th>No_Exit</th>\n",
       "      <th>Railway</th>\n",
       "      <th>Roundabout</th>\n",
       "      <th>Station</th>\n",
       "      <th>Stop</th>\n",
       "      <th>Traffic_Signal</th>\n",
       "      <th>Turning_Loop</th>\n",
       "    </tr>\n",
       "  </thead>\n",
       "  <tbody>\n",
       "    <tr>\n",
       "      <th>count</th>\n",
       "      <td>7717525</td>\n",
       "      <td>7728141</td>\n",
       "      <td>7728394</td>\n",
       "      <td>7728394</td>\n",
       "      <td>7720586</td>\n",
       "      <td>7554935</td>\n",
       "      <td>7705148</td>\n",
       "      <td>7728394</td>\n",
       "      <td>7728394</td>\n",
       "      <td>7728394</td>\n",
       "      <td>7728394</td>\n",
       "      <td>7728394</td>\n",
       "      <td>7728394</td>\n",
       "      <td>7728394</td>\n",
       "      <td>7728394</td>\n",
       "      <td>7728394</td>\n",
       "      <td>7728394</td>\n",
       "    </tr>\n",
       "    <tr>\n",
       "      <th>unique</th>\n",
       "      <td>336306</td>\n",
       "      <td>13678</td>\n",
       "      <td>1871</td>\n",
       "      <td>49</td>\n",
       "      <td>4</td>\n",
       "      <td>144</td>\n",
       "      <td>2</td>\n",
       "      <td>2</td>\n",
       "      <td>2</td>\n",
       "      <td>2</td>\n",
       "      <td>2</td>\n",
       "      <td>2</td>\n",
       "      <td>2</td>\n",
       "      <td>2</td>\n",
       "      <td>2</td>\n",
       "      <td>2</td>\n",
       "      <td>1</td>\n",
       "    </tr>\n",
       "    <tr>\n",
       "      <th>top</th>\n",
       "      <td>I-95 N</td>\n",
       "      <td>Miami</td>\n",
       "      <td>Los Angeles</td>\n",
       "      <td>CA</td>\n",
       "      <td>US/Eastern</td>\n",
       "      <td>Fair</td>\n",
       "      <td>Day</td>\n",
       "      <td>False</td>\n",
       "      <td>False</td>\n",
       "      <td>False</td>\n",
       "      <td>False</td>\n",
       "      <td>False</td>\n",
       "      <td>False</td>\n",
       "      <td>False</td>\n",
       "      <td>False</td>\n",
       "      <td>False</td>\n",
       "      <td>False</td>\n",
       "    </tr>\n",
       "    <tr>\n",
       "      <th>freq</th>\n",
       "      <td>78430</td>\n",
       "      <td>186917</td>\n",
       "      <td>526851</td>\n",
       "      <td>1741433</td>\n",
       "      <td>3580167</td>\n",
       "      <td>2560802</td>\n",
       "      <td>5334553</td>\n",
       "      <td>7632060</td>\n",
       "      <td>7724880</td>\n",
       "      <td>6854631</td>\n",
       "      <td>7708849</td>\n",
       "      <td>7661415</td>\n",
       "      <td>7728145</td>\n",
       "      <td>7526493</td>\n",
       "      <td>7514023</td>\n",
       "      <td>6584622</td>\n",
       "      <td>7728394</td>\n",
       "    </tr>\n",
       "  </tbody>\n",
       "</table>\n",
       "</div>"
      ],
      "text/plain": [
       "         Street     City       County    State    Timezone Weather_Condition  \\\n",
       "count   7717525  7728141      7728394  7728394     7720586           7554935   \n",
       "unique   336306    13678         1871       49           4               144   \n",
       "top      I-95 N    Miami  Los Angeles       CA  US/Eastern              Fair   \n",
       "freq      78430   186917       526851  1741433     3580167           2560802   \n",
       "\n",
       "       Sunrise_Sunset  Amenity     Bump Crossing  No_Exit  Railway Roundabout  \\\n",
       "count         7705148  7728394  7728394  7728394  7728394  7728394    7728394   \n",
       "unique              2        2        2        2        2        2          2   \n",
       "top               Day    False    False    False    False    False      False   \n",
       "freq          5334553  7632060  7724880  6854631  7708849  7661415    7728145   \n",
       "\n",
       "        Station     Stop Traffic_Signal Turning_Loop  \n",
       "count   7728394  7728394        7728394      7728394  \n",
       "unique        2        2              2            1  \n",
       "top       False    False          False        False  \n",
       "freq    7526493  7514023        6584622      7728394  "
      ]
     },
     "execution_count": 42,
     "metadata": {},
     "output_type": "execute_result"
    }
   ],
   "source": [
    "df[categorical].describe()"
   ]
  },
  {
   "cell_type": "code",
   "execution_count": 43,
   "id": "a90296b6-2cb2-4871-b8df-ca61251f3e76",
   "metadata": {},
   "outputs": [
    {
     "data": {
      "text/html": [
       "<div>\n",
       "<style scoped>\n",
       "    .dataframe tbody tr th:only-of-type {\n",
       "        vertical-align: middle;\n",
       "    }\n",
       "\n",
       "    .dataframe tbody tr th {\n",
       "        vertical-align: top;\n",
       "    }\n",
       "\n",
       "    .dataframe thead th {\n",
       "        text-align: right;\n",
       "    }\n",
       "</style>\n",
       "<table border=\"1\" class=\"dataframe\">\n",
       "  <thead>\n",
       "    <tr style=\"text-align: right;\">\n",
       "      <th></th>\n",
       "      <th>Start_Time</th>\n",
       "      <th>Weather_Timestamp</th>\n",
       "    </tr>\n",
       "  </thead>\n",
       "  <tbody>\n",
       "    <tr>\n",
       "      <th>count</th>\n",
       "      <td>7728394</td>\n",
       "      <td>7608166</td>\n",
       "    </tr>\n",
       "    <tr>\n",
       "      <th>unique</th>\n",
       "      <td>6131796</td>\n",
       "      <td>941331</td>\n",
       "    </tr>\n",
       "    <tr>\n",
       "      <th>top</th>\n",
       "      <td>2021-01-26 16:16:13</td>\n",
       "      <td>2022-03-13 01:53:00</td>\n",
       "    </tr>\n",
       "    <tr>\n",
       "      <th>freq</th>\n",
       "      <td>225</td>\n",
       "      <td>1311</td>\n",
       "    </tr>\n",
       "  </tbody>\n",
       "</table>\n",
       "</div>"
      ],
      "text/plain": [
       "                 Start_Time    Weather_Timestamp\n",
       "count               7728394              7608166\n",
       "unique              6131796               941331\n",
       "top     2021-01-26 16:16:13  2022-03-13 01:53:00\n",
       "freq                    225                 1311"
      ]
     },
     "execution_count": 43,
     "metadata": {},
     "output_type": "execute_result"
    }
   ],
   "source": [
    "df[timeseries].describe()"
   ]
  },
  {
   "cell_type": "code",
   "execution_count": 52,
   "id": "3b56cf10-0d7d-43fc-b7d2-2d2b0bf4a065",
   "metadata": {},
   "outputs": [],
   "source": [
    "df.to_csv('cleaned_data.csv', index=False)"
   ]
  },
  {
   "cell_type": "markdown",
   "id": "0206ea26-9221-4135-8ddd-5ab3025a1d9d",
   "metadata": {},
   "source": [
    "### *Data Analysis*"
   ]
  },
  {
   "cell_type": "code",
   "execution_count": null,
   "id": "2223a3e4-0911-41e3-9cf4-221094b2efb5",
   "metadata": {},
   "outputs": [],
   "source": []
  },
  {
   "cell_type": "code",
   "execution_count": null,
   "id": "cab9a4d1-ca83-4e4e-8200-faad49d74712",
   "metadata": {},
   "outputs": [],
   "source": []
  }
 ],
 "metadata": {
  "kernelspec": {
   "display_name": "Python 3 (ipykernel)",
   "language": "python",
   "name": "python3"
  },
  "language_info": {
   "codemirror_mode": {
    "name": "ipython",
    "version": 3
   },
   "file_extension": ".py",
   "mimetype": "text/x-python",
   "name": "python",
   "nbconvert_exporter": "python",
   "pygments_lexer": "ipython3",
   "version": "3.12.7"
  }
 },
 "nbformat": 4,
 "nbformat_minor": 5
}
