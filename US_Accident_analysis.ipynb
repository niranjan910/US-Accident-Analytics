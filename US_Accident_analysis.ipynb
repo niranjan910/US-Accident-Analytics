{
 "cells": [
  {
   "cell_type": "markdown",
   "id": "30813d2b-e03e-464a-85c7-ded46cb1f027",
   "metadata": {},
   "source": [
    "## *Loading Environment*"
   ]
  },
  {
   "cell_type": "code",
   "execution_count": 1,
   "id": "64b9ceb8-aaf2-48fa-b471-4ffc91ec0622",
   "metadata": {},
   "outputs": [],
   "source": [
    "import pandas as pd\n",
    "import numpy as np\n",
    "import matplotlib.pyplot as plt\n",
    "import seaborn as sns\n",
    "from scipy import stats\n",
    "\n",
    "\n",
    "plt.style.use('ggplot')\n",
    "pd.set_option('display.max_columns', 200)\n",
    "pd.set_option('display.float_format', lambda x: '%.3f' % x)  \n",
    "sns.set_palette('viridis')\n",
    "sns.set_style(\"dark\")\n",
    "import warnings\n",
    "warnings.filterwarnings(\"ignore\")"
   ]
  },
  {
   "cell_type": "markdown",
   "id": "c0f2f2e6-854e-481e-b076-b4db6579192e",
   "metadata": {},
   "source": [
    "## *Loading Data*"
   ]
  },
  {
   "cell_type": "code",
   "execution_count": 2,
   "id": "ecc71ffe-c6b0-4000-9c5c-61c8f9acb600",
   "metadata": {},
   "outputs": [],
   "source": [
    "df = pd.read_csv(\"US_Accidents_March23.csv\")"
   ]
  },
  {
   "cell_type": "markdown",
   "id": "ca9a69e8-a2d1-4540-a7dc-59f401f627c4",
   "metadata": {},
   "source": [
    "## *Data Exploration*"
   ]
  },
  {
   "cell_type": "code",
   "execution_count": 3,
   "id": "bfe08dbe-2c83-49db-abf0-53f98619a7b1",
   "metadata": {},
   "outputs": [
    {
     "data": {
      "text/plain": [
       "(7728394, 46)"
      ]
     },
     "execution_count": 3,
     "metadata": {},
     "output_type": "execute_result"
    }
   ],
   "source": [
    "df.shape"
   ]
  },
  {
   "cell_type": "code",
   "execution_count": 4,
   "id": "bdbce207-658f-4c21-9291-9ebdb48ebd0a",
   "metadata": {},
   "outputs": [
    {
     "data": {
      "text/plain": [
       "['ID',\n",
       " 'Source',\n",
       " 'Severity',\n",
       " 'Start_Time',\n",
       " 'End_Time',\n",
       " 'Start_Lat',\n",
       " 'Start_Lng',\n",
       " 'End_Lat',\n",
       " 'End_Lng',\n",
       " 'Distance(mi)',\n",
       " 'Description',\n",
       " 'Street',\n",
       " 'City',\n",
       " 'County',\n",
       " 'State',\n",
       " 'Zipcode',\n",
       " 'Country',\n",
       " 'Timezone',\n",
       " 'Airport_Code',\n",
       " 'Weather_Timestamp',\n",
       " 'Temperature(F)',\n",
       " 'Wind_Chill(F)',\n",
       " 'Humidity(%)',\n",
       " 'Pressure(in)',\n",
       " 'Visibility(mi)',\n",
       " 'Wind_Direction',\n",
       " 'Wind_Speed(mph)',\n",
       " 'Precipitation(in)',\n",
       " 'Weather_Condition',\n",
       " 'Amenity',\n",
       " 'Bump',\n",
       " 'Crossing',\n",
       " 'Give_Way',\n",
       " 'Junction',\n",
       " 'No_Exit',\n",
       " 'Railway',\n",
       " 'Roundabout',\n",
       " 'Station',\n",
       " 'Stop',\n",
       " 'Traffic_Calming',\n",
       " 'Traffic_Signal',\n",
       " 'Turning_Loop',\n",
       " 'Sunrise_Sunset',\n",
       " 'Civil_Twilight',\n",
       " 'Nautical_Twilight',\n",
       " 'Astronomical_Twilight']"
      ]
     },
     "execution_count": 4,
     "metadata": {},
     "output_type": "execute_result"
    }
   ],
   "source": [
    "df.columns.tolist()"
   ]
  },
  {
   "cell_type": "code",
   "execution_count": 5,
   "id": "d74272db-9229-42ed-8deb-2c269f8fb891",
   "metadata": {},
   "outputs": [
    {
     "data": {
      "text/plain": [
       "ID                        object\n",
       "Source                    object\n",
       "Severity                   int64\n",
       "Start_Time                object\n",
       "End_Time                  object\n",
       "Start_Lat                float64\n",
       "Start_Lng                float64\n",
       "End_Lat                  float64\n",
       "End_Lng                  float64\n",
       "Distance(mi)             float64\n",
       "Description               object\n",
       "Street                    object\n",
       "City                      object\n",
       "County                    object\n",
       "State                     object\n",
       "Zipcode                   object\n",
       "Country                   object\n",
       "Timezone                  object\n",
       "Airport_Code              object\n",
       "Weather_Timestamp         object\n",
       "Temperature(F)           float64\n",
       "Wind_Chill(F)            float64\n",
       "Humidity(%)              float64\n",
       "Pressure(in)             float64\n",
       "Visibility(mi)           float64\n",
       "Wind_Direction            object\n",
       "Wind_Speed(mph)          float64\n",
       "Precipitation(in)        float64\n",
       "Weather_Condition         object\n",
       "Amenity                     bool\n",
       "Bump                        bool\n",
       "Crossing                    bool\n",
       "Give_Way                    bool\n",
       "Junction                    bool\n",
       "No_Exit                     bool\n",
       "Railway                     bool\n",
       "Roundabout                  bool\n",
       "Station                     bool\n",
       "Stop                        bool\n",
       "Traffic_Calming             bool\n",
       "Traffic_Signal              bool\n",
       "Turning_Loop                bool\n",
       "Sunrise_Sunset            object\n",
       "Civil_Twilight            object\n",
       "Nautical_Twilight         object\n",
       "Astronomical_Twilight     object\n",
       "dtype: object"
      ]
     },
     "execution_count": 5,
     "metadata": {},
     "output_type": "execute_result"
    }
   ],
   "source": [
    "df.dtypes"
   ]
  },
  {
   "cell_type": "code",
   "execution_count": 6,
   "id": "1b461386-fe95-4a1c-96de-56ed047143eb",
   "metadata": {},
   "outputs": [
    {
     "data": {
      "text/html": [
       "<div>\n",
       "<style scoped>\n",
       "    .dataframe tbody tr th:only-of-type {\n",
       "        vertical-align: middle;\n",
       "    }\n",
       "\n",
       "    .dataframe tbody tr th {\n",
       "        vertical-align: top;\n",
       "    }\n",
       "\n",
       "    .dataframe thead th {\n",
       "        text-align: right;\n",
       "    }\n",
       "</style>\n",
       "<table border=\"1\" class=\"dataframe\">\n",
       "  <thead>\n",
       "    <tr style=\"text-align: right;\">\n",
       "      <th></th>\n",
       "      <th>ID</th>\n",
       "      <th>Source</th>\n",
       "      <th>Severity</th>\n",
       "      <th>Start_Time</th>\n",
       "      <th>End_Time</th>\n",
       "      <th>Start_Lat</th>\n",
       "      <th>Start_Lng</th>\n",
       "      <th>End_Lat</th>\n",
       "      <th>End_Lng</th>\n",
       "      <th>Distance(mi)</th>\n",
       "      <th>Description</th>\n",
       "      <th>Street</th>\n",
       "      <th>City</th>\n",
       "      <th>County</th>\n",
       "      <th>State</th>\n",
       "      <th>Zipcode</th>\n",
       "      <th>Country</th>\n",
       "      <th>Timezone</th>\n",
       "      <th>Airport_Code</th>\n",
       "      <th>Weather_Timestamp</th>\n",
       "      <th>Temperature(F)</th>\n",
       "      <th>Wind_Chill(F)</th>\n",
       "      <th>Humidity(%)</th>\n",
       "      <th>Pressure(in)</th>\n",
       "      <th>Visibility(mi)</th>\n",
       "      <th>Wind_Direction</th>\n",
       "      <th>Wind_Speed(mph)</th>\n",
       "      <th>Precipitation(in)</th>\n",
       "      <th>Weather_Condition</th>\n",
       "      <th>Amenity</th>\n",
       "      <th>Bump</th>\n",
       "      <th>Crossing</th>\n",
       "      <th>Give_Way</th>\n",
       "      <th>Junction</th>\n",
       "      <th>No_Exit</th>\n",
       "      <th>Railway</th>\n",
       "      <th>Roundabout</th>\n",
       "      <th>Station</th>\n",
       "      <th>Stop</th>\n",
       "      <th>Traffic_Calming</th>\n",
       "      <th>Traffic_Signal</th>\n",
       "      <th>Turning_Loop</th>\n",
       "      <th>Sunrise_Sunset</th>\n",
       "      <th>Civil_Twilight</th>\n",
       "      <th>Nautical_Twilight</th>\n",
       "      <th>Astronomical_Twilight</th>\n",
       "    </tr>\n",
       "  </thead>\n",
       "  <tbody>\n",
       "    <tr>\n",
       "      <th>0</th>\n",
       "      <td>A-1</td>\n",
       "      <td>Source2</td>\n",
       "      <td>3</td>\n",
       "      <td>2016-02-08 05:46:00</td>\n",
       "      <td>2016-02-08 11:00:00</td>\n",
       "      <td>39.865</td>\n",
       "      <td>-84.059</td>\n",
       "      <td>NaN</td>\n",
       "      <td>NaN</td>\n",
       "      <td>0.010</td>\n",
       "      <td>Right lane blocked due to accident on I-70 Eas...</td>\n",
       "      <td>I-70 E</td>\n",
       "      <td>Dayton</td>\n",
       "      <td>Montgomery</td>\n",
       "      <td>OH</td>\n",
       "      <td>45424</td>\n",
       "      <td>US</td>\n",
       "      <td>US/Eastern</td>\n",
       "      <td>KFFO</td>\n",
       "      <td>2016-02-08 05:58:00</td>\n",
       "      <td>36.900</td>\n",
       "      <td>NaN</td>\n",
       "      <td>91.000</td>\n",
       "      <td>29.680</td>\n",
       "      <td>10.000</td>\n",
       "      <td>Calm</td>\n",
       "      <td>NaN</td>\n",
       "      <td>0.020</td>\n",
       "      <td>Light Rain</td>\n",
       "      <td>False</td>\n",
       "      <td>False</td>\n",
       "      <td>False</td>\n",
       "      <td>False</td>\n",
       "      <td>False</td>\n",
       "      <td>False</td>\n",
       "      <td>False</td>\n",
       "      <td>False</td>\n",
       "      <td>False</td>\n",
       "      <td>False</td>\n",
       "      <td>False</td>\n",
       "      <td>False</td>\n",
       "      <td>False</td>\n",
       "      <td>Night</td>\n",
       "      <td>Night</td>\n",
       "      <td>Night</td>\n",
       "      <td>Night</td>\n",
       "    </tr>\n",
       "    <tr>\n",
       "      <th>1</th>\n",
       "      <td>A-2</td>\n",
       "      <td>Source2</td>\n",
       "      <td>2</td>\n",
       "      <td>2016-02-08 06:07:59</td>\n",
       "      <td>2016-02-08 06:37:59</td>\n",
       "      <td>39.928</td>\n",
       "      <td>-82.831</td>\n",
       "      <td>NaN</td>\n",
       "      <td>NaN</td>\n",
       "      <td>0.010</td>\n",
       "      <td>Accident on Brice Rd at Tussing Rd. Expect del...</td>\n",
       "      <td>Brice Rd</td>\n",
       "      <td>Reynoldsburg</td>\n",
       "      <td>Franklin</td>\n",
       "      <td>OH</td>\n",
       "      <td>43068-3402</td>\n",
       "      <td>US</td>\n",
       "      <td>US/Eastern</td>\n",
       "      <td>KCMH</td>\n",
       "      <td>2016-02-08 05:51:00</td>\n",
       "      <td>37.900</td>\n",
       "      <td>NaN</td>\n",
       "      <td>100.000</td>\n",
       "      <td>29.650</td>\n",
       "      <td>10.000</td>\n",
       "      <td>Calm</td>\n",
       "      <td>NaN</td>\n",
       "      <td>0.000</td>\n",
       "      <td>Light Rain</td>\n",
       "      <td>False</td>\n",
       "      <td>False</td>\n",
       "      <td>False</td>\n",
       "      <td>False</td>\n",
       "      <td>False</td>\n",
       "      <td>False</td>\n",
       "      <td>False</td>\n",
       "      <td>False</td>\n",
       "      <td>False</td>\n",
       "      <td>False</td>\n",
       "      <td>False</td>\n",
       "      <td>False</td>\n",
       "      <td>False</td>\n",
       "      <td>Night</td>\n",
       "      <td>Night</td>\n",
       "      <td>Night</td>\n",
       "      <td>Day</td>\n",
       "    </tr>\n",
       "    <tr>\n",
       "      <th>2</th>\n",
       "      <td>A-3</td>\n",
       "      <td>Source2</td>\n",
       "      <td>2</td>\n",
       "      <td>2016-02-08 06:49:27</td>\n",
       "      <td>2016-02-08 07:19:27</td>\n",
       "      <td>39.063</td>\n",
       "      <td>-84.033</td>\n",
       "      <td>NaN</td>\n",
       "      <td>NaN</td>\n",
       "      <td>0.010</td>\n",
       "      <td>Accident on OH-32 State Route 32 Westbound at ...</td>\n",
       "      <td>State Route 32</td>\n",
       "      <td>Williamsburg</td>\n",
       "      <td>Clermont</td>\n",
       "      <td>OH</td>\n",
       "      <td>45176</td>\n",
       "      <td>US</td>\n",
       "      <td>US/Eastern</td>\n",
       "      <td>KI69</td>\n",
       "      <td>2016-02-08 06:56:00</td>\n",
       "      <td>36.000</td>\n",
       "      <td>33.300</td>\n",
       "      <td>100.000</td>\n",
       "      <td>29.670</td>\n",
       "      <td>10.000</td>\n",
       "      <td>SW</td>\n",
       "      <td>3.500</td>\n",
       "      <td>NaN</td>\n",
       "      <td>Overcast</td>\n",
       "      <td>False</td>\n",
       "      <td>False</td>\n",
       "      <td>False</td>\n",
       "      <td>False</td>\n",
       "      <td>False</td>\n",
       "      <td>False</td>\n",
       "      <td>False</td>\n",
       "      <td>False</td>\n",
       "      <td>False</td>\n",
       "      <td>False</td>\n",
       "      <td>False</td>\n",
       "      <td>True</td>\n",
       "      <td>False</td>\n",
       "      <td>Night</td>\n",
       "      <td>Night</td>\n",
       "      <td>Day</td>\n",
       "      <td>Day</td>\n",
       "    </tr>\n",
       "  </tbody>\n",
       "</table>\n",
       "</div>"
      ],
      "text/plain": [
       "    ID   Source  Severity           Start_Time             End_Time  \\\n",
       "0  A-1  Source2         3  2016-02-08 05:46:00  2016-02-08 11:00:00   \n",
       "1  A-2  Source2         2  2016-02-08 06:07:59  2016-02-08 06:37:59   \n",
       "2  A-3  Source2         2  2016-02-08 06:49:27  2016-02-08 07:19:27   \n",
       "\n",
       "   Start_Lat  Start_Lng  End_Lat  End_Lng  Distance(mi)  \\\n",
       "0     39.865    -84.059      NaN      NaN         0.010   \n",
       "1     39.928    -82.831      NaN      NaN         0.010   \n",
       "2     39.063    -84.033      NaN      NaN         0.010   \n",
       "\n",
       "                                         Description          Street  \\\n",
       "0  Right lane blocked due to accident on I-70 Eas...          I-70 E   \n",
       "1  Accident on Brice Rd at Tussing Rd. Expect del...        Brice Rd   \n",
       "2  Accident on OH-32 State Route 32 Westbound at ...  State Route 32   \n",
       "\n",
       "           City      County State     Zipcode Country    Timezone  \\\n",
       "0        Dayton  Montgomery    OH       45424      US  US/Eastern   \n",
       "1  Reynoldsburg    Franklin    OH  43068-3402      US  US/Eastern   \n",
       "2  Williamsburg    Clermont    OH       45176      US  US/Eastern   \n",
       "\n",
       "  Airport_Code    Weather_Timestamp  Temperature(F)  Wind_Chill(F)  \\\n",
       "0         KFFO  2016-02-08 05:58:00          36.900            NaN   \n",
       "1         KCMH  2016-02-08 05:51:00          37.900            NaN   \n",
       "2         KI69  2016-02-08 06:56:00          36.000         33.300   \n",
       "\n",
       "   Humidity(%)  Pressure(in)  Visibility(mi) Wind_Direction  Wind_Speed(mph)  \\\n",
       "0       91.000        29.680          10.000           Calm              NaN   \n",
       "1      100.000        29.650          10.000           Calm              NaN   \n",
       "2      100.000        29.670          10.000             SW            3.500   \n",
       "\n",
       "   Precipitation(in) Weather_Condition  Amenity   Bump  Crossing  Give_Way  \\\n",
       "0              0.020        Light Rain    False  False     False     False   \n",
       "1              0.000        Light Rain    False  False     False     False   \n",
       "2                NaN          Overcast    False  False     False     False   \n",
       "\n",
       "   Junction  No_Exit  Railway  Roundabout  Station   Stop  Traffic_Calming  \\\n",
       "0     False    False    False       False    False  False            False   \n",
       "1     False    False    False       False    False  False            False   \n",
       "2     False    False    False       False    False  False            False   \n",
       "\n",
       "   Traffic_Signal  Turning_Loop Sunrise_Sunset Civil_Twilight  \\\n",
       "0           False         False          Night          Night   \n",
       "1           False         False          Night          Night   \n",
       "2            True         False          Night          Night   \n",
       "\n",
       "  Nautical_Twilight Astronomical_Twilight  \n",
       "0             Night                 Night  \n",
       "1             Night                   Day  \n",
       "2               Day                   Day  "
      ]
     },
     "execution_count": 6,
     "metadata": {},
     "output_type": "execute_result"
    }
   ],
   "source": [
    "df.head(3)"
   ]
  },
  {
   "cell_type": "markdown",
   "id": "21b00677-2052-4802-9301-9c752ed12da1",
   "metadata": {},
   "source": [
    "**To identify the number of numerial columns**"
   ]
  },
  {
   "cell_type": "code",
   "execution_count": 7,
   "id": "97701777-5433-4974-bdec-c828447bdf25",
   "metadata": {},
   "outputs": [],
   "source": [
    "numerics = [\"int16\", \"int32\", \"int64\", \"float16\", \"float32\", \"float64\"]\n",
    "numeric_df = df.select_dtypes(include=numerics)\n",
    "num_numeric_cols = len(numeric_df.columns)"
   ]
  },
  {
   "cell_type": "code",
   "execution_count": 8,
   "id": "aa6b258d-89a4-48c2-ac26-659e8e78625f",
   "metadata": {},
   "outputs": [
    {
     "data": {
      "text/plain": [
       "13"
      ]
     },
     "execution_count": 8,
     "metadata": {},
     "output_type": "execute_result"
    }
   ],
   "source": [
    "num_numeric_cols"
   ]
  },
  {
   "cell_type": "markdown",
   "id": "73a44c6b-d145-4c7c-a7f4-ecfe0164e445",
   "metadata": {},
   "source": [
    "**Exploring the missing Values**"
   ]
  },
  {
   "cell_type": "code",
   "execution_count": 9,
   "id": "9cdcb0c9-c426-4df4-adef-f2619bd340a8",
   "metadata": {},
   "outputs": [
    {
     "data": {
      "text/plain": [
       "End_Lat                 0.440\n",
       "End_Lng                 0.440\n",
       "Precipitation(in)       0.285\n",
       "Wind_Chill(F)           0.259\n",
       "Wind_Speed(mph)         0.074\n",
       "Visibility(mi)          0.023\n",
       "Wind_Direction          0.023\n",
       "Humidity(%)             0.023\n",
       "Weather_Condition       0.022\n",
       "Temperature(F)          0.021\n",
       "Pressure(in)            0.018\n",
       "Weather_Timestamp       0.016\n",
       "Nautical_Twilight       0.003\n",
       "Civil_Twilight          0.003\n",
       "Sunrise_Sunset          0.003\n",
       "Astronomical_Twilight   0.003\n",
       "Airport_Code            0.003\n",
       "Street                  0.001\n",
       "Timezone                0.001\n",
       "Zipcode                 0.000\n",
       "City                    0.000\n",
       "Description             0.000\n",
       "Traffic_Signal          0.000\n",
       "Roundabout              0.000\n",
       "Station                 0.000\n",
       "Stop                    0.000\n",
       "Traffic_Calming         0.000\n",
       "Country                 0.000\n",
       "Turning_Loop            0.000\n",
       "No_Exit                 0.000\n",
       "End_Time                0.000\n",
       "Start_Time              0.000\n",
       "Severity                0.000\n",
       "Railway                 0.000\n",
       "Crossing                0.000\n",
       "Junction                0.000\n",
       "Give_Way                0.000\n",
       "Bump                    0.000\n",
       "Amenity                 0.000\n",
       "Start_Lat               0.000\n",
       "Start_Lng               0.000\n",
       "Distance(mi)            0.000\n",
       "Source                  0.000\n",
       "County                  0.000\n",
       "State                   0.000\n",
       "ID                      0.000\n",
       "dtype: float64"
      ]
     },
     "execution_count": 9,
     "metadata": {},
     "output_type": "execute_result"
    }
   ],
   "source": [
    "missing_percentages = (df.isna().sum() / len(df)).sort_values(ascending=False)\n",
    "missing_percentages"
   ]
  },
  {
   "cell_type": "code",
   "execution_count": 10,
   "id": "98ca1926-9868-417d-8a11-d64e2399faf7",
   "metadata": {},
   "outputs": [
    {
     "data": {
      "text/plain": [
       "End_Lat                 0.440\n",
       "End_Lng                 0.440\n",
       "Precipitation(in)       0.285\n",
       "Wind_Chill(F)           0.259\n",
       "Wind_Speed(mph)         0.074\n",
       "Visibility(mi)          0.023\n",
       "Wind_Direction          0.023\n",
       "Humidity(%)             0.023\n",
       "Weather_Condition       0.022\n",
       "Temperature(F)          0.021\n",
       "Pressure(in)            0.018\n",
       "Weather_Timestamp       0.016\n",
       "Nautical_Twilight       0.003\n",
       "Civil_Twilight          0.003\n",
       "Sunrise_Sunset          0.003\n",
       "Astronomical_Twilight   0.003\n",
       "Airport_Code            0.003\n",
       "Street                  0.001\n",
       "Timezone                0.001\n",
       "Zipcode                 0.000\n",
       "City                    0.000\n",
       "Description             0.000\n",
       "dtype: float64"
      ]
     },
     "execution_count": 10,
     "metadata": {},
     "output_type": "execute_result"
    }
   ],
   "source": [
    "missing_percentages[missing_percentages != 0]"
   ]
  },
  {
   "cell_type": "code",
   "execution_count": 11,
   "id": "0b8a85a0-f86c-4d5d-94dc-e652830725cd",
   "metadata": {},
   "outputs": [
    {
     "data": {
      "text/plain": [
       "pandas.core.series.Series"
      ]
     },
     "execution_count": 11,
     "metadata": {},
     "output_type": "execute_result"
    }
   ],
   "source": [
    "type(missing_percentages)"
   ]
  },
  {
   "cell_type": "code",
   "execution_count": 12,
   "id": "2fd59a44-9d0c-4d53-a36e-72536248f4b9",
   "metadata": {},
   "outputs": [
    {
     "data": {
      "image/png": "[encoded data removed]",
      "text/plain": [
       "<Figure size 640x480 with 1 Axes>"
      ]
     },
     "metadata": {},
     "output_type": "display_data"
    }
   ],
   "source": [
    "non_zero_missing = missing_percentages[missing_percentages != 0]\n",
    "non_zero_missing.plot(kind=\"barh\")\n",
    "plt.show()"
   ]
  },
  {
   "cell_type": "code",
   "execution_count": 21,
   "id": "13cb9890-b361-486e-8963-7e3a0c4484d5",
   "metadata": {},
   "outputs": [
    {
     "data": {
      "text/plain": [
       "Index(['ID', 'Source', 'Severity', 'Start_Time', 'End_Time', 'Start_Lat',\n",
       "       'Start_Lng', 'End_Lat', 'End_Lng', 'Distance(mi)', 'Description',\n",
       "       'Street', 'City', 'County', 'State', 'Zipcode', 'Country', 'Timezone',\n",
       "       'Airport_Code', 'Weather_Timestamp', 'Temperature(F)', 'Wind_Chill(F)',\n",
       "       'Humidity(%)', 'Pressure(in)', 'Visibility(mi)', 'Wind_Direction',\n",
       "       'Wind_Speed(mph)', 'Precipitation(in)', 'Weather_Condition', 'Amenity',\n",
       "       'Bump', 'Crossing', 'Give_Way', 'Junction', 'No_Exit', 'Railway',\n",
       "       'Roundabout', 'Station', 'Stop', 'Traffic_Calming', 'Traffic_Signal',\n",
       "       'Turning_Loop', 'Sunrise_Sunset', 'Civil_Twilight', 'Nautical_Twilight',\n",
       "       'Astronomical_Twilight'],\n",
       "      dtype='object')"
      ]
     },
     "execution_count": 21,
     "metadata": {},
     "output_type": "execute_result"
    }
   ],
   "source": [
    "df.columns"
   ]
  },
  {
   "cell_type": "markdown",
   "id": "07b407b6-5900-4225-9a1b-fa1ea42a0430",
   "metadata": {
    "jp-MarkdownHeadingCollapsed": true
   },
   "source": [
    "### Data Exploration of each Column\n",
    "- To know the insight of each column"
   ]
  },
  {
   "cell_type": "markdown",
   "id": "e75f6354-ef3f-4b79-91b9-2e310a424e78",
   "metadata": {
    "jp-MarkdownHeadingCollapsed": true
   },
   "source": [
    "### *Severity*"
   ]
  },
  {
   "cell_type": "code",
   "execution_count": 74,
   "id": "36bd710f-de39-41ed-88cc-1e8eed686d34",
   "metadata": {},
   "outputs": [
    {
     "data": {
      "text/plain": [
       "Severity\n",
       "2    6156981\n",
       "3    1299337\n",
       "4     204710\n",
       "1      67366\n",
       "Name: count, dtype: int64"
      ]
     },
     "execution_count": 74,
     "metadata": {},
     "output_type": "execute_result"
    }
   ],
   "source": [
    "df[\"Severity\"].value_counts()"
   ]
  },
  {
   "cell_type": "markdown",
   "id": "5187d518-ddf2-4dfb-b78f-c78d3e51cd0f",
   "metadata": {},
   "source": [
    "### *Start Time*"
   ]
  },
  {
   "cell_type": "code",
   "execution_count": 75,
   "id": "1c3788da-6766-40ab-bbf9-219240be01a5",
   "metadata": {},
   "outputs": [
    {
     "data": {
      "text/plain": [
       "Start_Time\n",
       "2021-01-26 16:16:13    253\n",
       "2021-01-26 16:17:33    170\n",
       "2021-02-16 06:42:43    157\n",
       "2021-11-21 18:37:51    125\n",
       "2020-12-16 13:53:25     99\n",
       "                      ... \n",
       "2019-06-17 08:32:29      1\n",
       "2019-06-17 08:12:49      1\n",
       "2019-06-17 08:05:59      1\n",
       "2019-06-17 07:58:15      1\n",
       "2019-08-23 18:52:06      1\n",
       "Name: count, Length: 5801064, dtype: int64"
      ]
     },
     "execution_count": 75,
     "metadata": {},
     "output_type": "execute_result"
    }
   ],
   "source": [
    "df[\"Start_Time\"].value_counts()"
   ]
  },
  {
   "cell_type": "code",
   "execution_count": 86,
   "id": "d45c7bb9-9f2a-4df1-987a-ae2972daa6be",
   "metadata": {},
   "outputs": [],
   "source": [
    "df['Start_Time'] = pd.to_datetime(df['Start_Time'], format='mixed')"
   ]
  },
  {
   "cell_type": "code",
   "execution_count": 87,
   "id": "48daf29d-3639-43a8-9580-ef505ad28f38",
   "metadata": {},
   "outputs": [
    {
     "data": {
      "text/plain": [
       "Timestamp('2016-02-08 05:46:00')"
      ]
     },
     "execution_count": 87,
     "metadata": {},
     "output_type": "execute_result"
    }
   ],
   "source": [
    "df.Start_Time[0]"
   ]
  },
  {
   "cell_type": "code",
   "execution_count": 88,
   "id": "023c0384-371e-4167-8bf6-b21b595f68d7",
   "metadata": {},
   "outputs": [
    {
     "data": {
      "text/plain": [
       "0           5\n",
       "1           6\n",
       "2           6\n",
       "3           7\n",
       "4           7\n",
       "           ..\n",
       "7728389    18\n",
       "7728390    19\n",
       "7728391    19\n",
       "7728392    19\n",
       "7728393    18\n",
       "Name: Start_Time, Length: 7728394, dtype: int32"
      ]
     },
     "execution_count": 88,
     "metadata": {},
     "output_type": "execute_result"
    }
   ],
   "source": [
    "df.Start_Time.dt.hour"
   ]
  },
  {
   "cell_type": "code",
   "execution_count": 91,
   "id": "55cb8d38-7ed7-448c-a3cf-ad9c1209361f",
   "metadata": {},
   "outputs": [
    {
     "data": {
      "text/plain": [
       "Text(0.5, 1.0, 'Accident Start Time (24 Hr format)')"
      ]
     },
     "execution_count": 91,
     "metadata": {},
     "output_type": "execute_result"
    },
    {
     "data": {
      "image/png": "[encoded data removed]",
      "text/plain": [
       "<Figure size 640x480 with 1 Axes>"
      ]
     },
     "metadata": {},
     "output_type": "display_data"
    }
   ],
   "source": [
    "sns.distplot(df.Start_Time.dt.hour, bins = 24, kde = False, norm_hist = True)\n",
    "plt.title('Accident Start Time (24 Hr format)')"
   ]
  },
  {
   "cell_type": "markdown",
   "id": "6bfd2bcf-62df-4f25-a42e-90d689469943",
   "metadata": {},
   "source": [
    "Observation (Which time the accident is high)\n",
    "- Most accident occured btw 7 - 9 am in the morning\n",
    "- Most accident accured btw 3 - 5 pm in the afternoon \n",
    "- possibly most of the victims are from working baground "
   ]
  },
  {
   "cell_type": "code",
   "execution_count": 92,
   "id": "e4eed222-3b36-4ab5-a01b-a9aafe6a2220",
   "metadata": {},
   "outputs": [
    {
     "data": {
      "text/plain": [
       "Text(0.5, 1.0, 'Accident by Week')"
      ]
     },
     "execution_count": 92,
     "metadata": {},
     "output_type": "execute_result"
    },
    {
     "data": {
      "image/png": "[encoded data removed]",
      "text/plain": [
       "<Figure size 640x480 with 1 Axes>"
      ]
     },
     "metadata": {},
     "output_type": "display_data"
    }
   ],
   "source": [
    "sns.distplot(df.Start_Time.dt.dayofweek, bins = 7, kde = False, norm_hist = True)\n",
    "plt.title('Accident by Week')"
   ]
  },
  {
   "cell_type": "markdown",
   "id": "659748e9-7431-45f8-8260-30e3869ce782",
   "metadata": {},
   "source": [
    "Obsevation ( Which day of the weak experiences most accidents)\n",
    "- weekends have less accidents notes\n",
    "- Most accident occured on Friday\n",
    "- possibly the working sectors might be in some hurry"
   ]
  },
  {
   "cell_type": "markdown",
   "id": "4f4b8eac-54c1-4c9e-870c-a4805cc47532",
   "metadata": {},
   "source": [
    "Since most accident occoured on Friday i will try to find at which time on Friday there was major accidents"
   ]
  },
  {
   "cell_type": "code",
   "execution_count": 95,
   "id": "19b4a728-b4e7-4c8c-9860-0a2a7b8d2f47",
   "metadata": {},
   "outputs": [
    {
     "data": {
      "text/plain": [
       "Text(0.5, 1.0, 'Accident on Friday by Time (Hr)')"
      ]
     },
     "execution_count": 95,
     "metadata": {},
     "output_type": "execute_result"
    },
    {
     "data": {
      "image/png": "[encoded data removed]",
      "text/plain": [
       "<Figure size 640x480 with 1 Axes>"
      ]
     },
     "metadata": {},
     "output_type": "display_data"
    }
   ],
   "source": [
    "sundays_start_time = df['Start_Time'][df['Start_Time'].dt.dayofweek == 4]\n",
    "sns.distplot(sundays_start_time.dt.hour, bins=24, kde=False, norm_hist=True)\n",
    "plt.title('Accident on Friday by Time (Hr)')"
   ]
  },
  {
   "cell_type": "markdown",
   "id": "627cb7f1-8ae3-42b0-a16a-be4881d93e1b",
   "metadata": {},
   "source": [
    "Observation (On what time most accidents are noted on Friday)\n",
    "- Most accidents can be seen in the moring (7-9 am) and in the evening (3-5 pm)\n",
    "- moring is having very low number of accidents as compared to other times."
   ]
  },
  {
   "cell_type": "code",
   "execution_count": 98,
   "id": "9ab7ebfe-431c-4ef3-9d1d-2cdf461f8566",
   "metadata": {},
   "outputs": [
    {
     "data": {
      "text/plain": [
       "Text(0.5, 1.0, 'Accident on Sunday by Time (Hr)')"
      ]
     },
     "execution_count": 98,
     "metadata": {},
     "output_type": "execute_result"
    },
    {
     "data": {
      "image/png": "[encoded data removed]",
      "text/plain": [
       "<Figure size 640x480 with 1 Axes>"
      ]
     },
     "metadata": {},
     "output_type": "display_data"
    }
   ],
   "source": [
    "sundays_start_time = df['Start_Time'][df['Start_Time'].dt.dayofweek == 6]\n",
    "sns.distplot(sundays_start_time.dt.hour, bins=24, kde=False, norm_hist=True)\n",
    "plt.title('Accident on Sunday by Time (Hr)')"
   ]
  },
  {
   "cell_type": "code",
   "execution_count": 99,
   "id": "7c1d2f3e-13b1-4eb7-9392-cae5ea331446",
   "metadata": {},
   "outputs": [
    {
     "data": {
      "text/plain": [
       "Text(0.5, 1.0, 'Monthly basis accident')"
      ]
     },
     "execution_count": 99,
     "metadata": {},
     "output_type": "execute_result"
    },
    {
     "data": {
      "image/png": "[encoded data removed]",
      "text/plain": [
       "<Figure size 640x480 with 1 Axes>"
      ]
     },
     "metadata": {},
     "output_type": "display_data"
    }
   ],
   "source": [
    "sns.distplot(df.Start_Time.dt.month, bins=12, kde=False, norm_hist=True)\n",
    "plt.title('Monthly basis accident')"
   ]
  },
  {
   "cell_type": "markdown",
   "id": "31060b55-ac68-46ba-99ee-1f2f1c22d3cc",
   "metadata": {},
   "source": [
    "observations made (Which motnth is having high number of accidents)\n",
    "- most of the accidents are on winter months.\n",
    "- Least number of accidents are observed on summer months. "
   ]
  },
  {
   "cell_type": "code",
   "execution_count": 100,
   "id": "c7a65f2d-6b39-4b48-bdfb-45e27bb662cc",
   "metadata": {},
   "outputs": [
    {
     "data": {
      "text/plain": [
       "0          2016\n",
       "1          2016\n",
       "2          2016\n",
       "3          2016\n",
       "4          2016\n",
       "           ... \n",
       "7728389    2019\n",
       "7728390    2019\n",
       "7728391    2019\n",
       "7728392    2019\n",
       "7728393    2019\n",
       "Name: Start_Time, Length: 7728394, dtype: int32"
      ]
     },
     "execution_count": 100,
     "metadata": {},
     "output_type": "execute_result"
    }
   ],
   "source": [
    "df.Start_Time.dt.year"
   ]
  },
  {
   "cell_type": "code",
   "execution_count": 102,
   "id": "eb752752-8755-400c-b94d-e6d97f1ec105",
   "metadata": {},
   "outputs": [
    {
     "data": {
      "text/plain": [
       "Text(0.5, 1.0, 'Accidents on 2019')"
      ]
     },
     "execution_count": 102,
     "metadata": {},
     "output_type": "execute_result"
    },
    {
     "data": {
      "image/png": "[encoded data removed]",
      "text/plain": [
       "<Figure size 640x480 with 1 Axes>"
      ]
     },
     "metadata": {},
     "output_type": "display_data"
    }
   ],
   "source": [
    "df_2019 = df[df.Start_Time.dt.year == 2019]\n",
    "sns.distplot(df_2019.Start_Time.dt.month, bins=12, kde=False, norm_hist=True)\n",
    "plt.title('Accidents on 2019')"
   ]
  },
  {
   "cell_type": "code",
   "execution_count": 112,
   "id": "391402db-9d07-40a6-8bbe-1bc6c59d42d0",
   "metadata": {},
   "outputs": [
    {
     "data": {
      "text/plain": [
       "Text(0.5, 1.0, 'Accidents on 2018')"
      ]
     },
     "execution_count": 112,
     "metadata": {},
     "output_type": "execute_result"
    },
    {
     "data": {
      "image/png": "[encoded data removed]",
      "text/plain": [
       "<Figure size 640x480 with 1 Axes>"
      ]
     },
     "metadata": {},
     "output_type": "display_data"
    }
   ],
   "source": [
    "df_2019 = df[df.Start_Time.dt.year == 2018]\n",
    "sns.distplot(df_2019.Start_Time.dt.month, bins=12, kde=False, norm_hist=True)\n",
    "plt.title('Accidents on 2018')"
   ]
  },
  {
   "cell_type": "code",
   "execution_count": 113,
   "id": "74807f92-019c-4f71-bd25-b152d9950e81",
   "metadata": {},
   "outputs": [
    {
     "data": {
      "text/plain": [
       "Text(0.5, 1.0, 'Accidents on 2017')"
      ]
     },
     "execution_count": 113,
     "metadata": {},
     "output_type": "execute_result"
    },
    {
     "data": {
      "image/png": "[encoded data removed]",
      "text/plain": [
       "<Figure size 640x480 with 1 Axes>"
      ]
     },
     "metadata": {},
     "output_type": "display_data"
    }
   ],
   "source": [
    "df_2019 = df[df.Start_Time.dt.year == 2017]\n",
    "sns.distplot(df_2019.Start_Time.dt.month, bins=12, kde=False, norm_hist=True)\n",
    "plt.title('Accidents on 2017')"
   ]
  },
  {
   "cell_type": "code",
   "execution_count": 119,
   "id": "e9e10c60-151f-432f-8989-758d837a775f",
   "metadata": {},
   "outputs": [
    {
     "data": {
      "text/plain": [
       "Text(0.5, 1.0, 'Accidents on 2016')"
      ]
     },
     "execution_count": 119,
     "metadata": {},
     "output_type": "execute_result"
    },
    {
     "data": {
      "image/png": "[encoded data removed]",
      "text/plain": [
       "<Figure size 640x480 with 1 Axes>"
      ]
     },
     "metadata": {},
     "output_type": "display_data"
    }
   ],
   "source": [
    "df_2019 = df[df.Start_Time.dt.year == 2016]\n",
    "sns.distplot(df_2019.Start_Time.dt.month, bins=12, kde=False, norm_hist=True)\n",
    "plt.title('Accidents on 2016')"
   ]
  },
  {
   "cell_type": "code",
   "execution_count": 117,
   "id": "9ef4b775-0a1c-40fc-91e7-feb89c1f47ac",
   "metadata": {},
   "outputs": [
    {
     "data": {
      "text/plain": [
       "Text(0.5, 1.0, 'Accidents on 2020')"
      ]
     },
     "execution_count": 117,
     "metadata": {},
     "output_type": "execute_result"
    },
    {
     "data": {
      "image/png": "[encoded data removed]",
      "text/plain": [
       "<Figure size 640x480 with 1 Axes>"
      ]
     },
     "metadata": {},
     "output_type": "display_data"
    }
   ],
   "source": [
    "df_2019 = df[df.Start_Time.dt.year == 2020]\n",
    "sns.distplot(df_2019.Start_Time.dt.month, bins=12, kde=False, norm_hist=True)\n",
    "plt.title('Accidents on 2020')"
   ]
  },
  {
   "cell_type": "code",
   "execution_count": 120,
   "id": "1c577736-3c5c-4ef1-8d8d-2d35e2adcab8",
   "metadata": {},
   "outputs": [
    {
     "data": {
      "text/plain": [
       "Text(0.5, 1.0, 'Accidents on 2023')"
      ]
     },
     "execution_count": 120,
     "metadata": {},
     "output_type": "execute_result"
    },
    {
     "data": {
      "image/png": "[encoded data removed]",
      "text/plain": [
       "<Figure size 640x480 with 1 Axes>"
      ]
     },
     "metadata": {},
     "output_type": "display_data"
    }
   ],
   "source": [
    "df_2019 = df[df.Start_Time.dt.year == 2023]\n",
    "sns.distplot(df_2019.Start_Time.dt.month, bins=12, kde=False, norm_hist=True)\n",
    "plt.title('Accidents on 2023')"
   ]
  },
  {
   "cell_type": "code",
   "execution_count": null,
   "id": "3ff0c998-90d2-4d8a-ba73-c6265fcad039",
   "metadata": {},
   "outputs": [],
   "source": []
  },
  {
   "cell_type": "markdown",
   "id": "685ec466-f015-4160-af94-4a6db3471b93",
   "metadata": {},
   "source": [
    "Obervation (At what time on Sunday there is major number of accidents)\n",
    "- There is a high number of accidents from 12-5 pm \n",
    "- Least number of accidents can be noted in the morning btw 2-5 am "
   ]
  },
  {
   "cell_type": "code",
   "execution_count": 76,
   "id": "02becbb7-dd85-4fb6-bc97-74f7da7a57a3",
   "metadata": {},
   "outputs": [
    {
     "data": {
      "text/plain": [
       "End_Time\n",
       "2021-11-22 08:00:00    112\n",
       "2017-05-15 15:22:55     73\n",
       "2019-10-26 09:14:51     49\n",
       "2020-02-14 00:00:00     46\n",
       "2018-11-25 02:51:02     46\n",
       "                      ... \n",
       "2019-01-27 03:35:12      1\n",
       "2019-01-27 03:01:18      1\n",
       "2019-01-27 02:32:22      1\n",
       "2019-01-27 02:29:26      1\n",
       "2019-08-23 19:21:31      1\n",
       "Name: count, Length: 6705355, dtype: int64"
      ]
     },
     "execution_count": 76,
     "metadata": {},
     "output_type": "execute_result"
    }
   ],
   "source": [
    "df[\"End_Time\"].value_counts()"
   ]
  },
  {
   "cell_type": "code",
   "execution_count": 77,
   "id": "f6136eff-3c02-4ef4-bfde-450e4ba0dceb",
   "metadata": {},
   "outputs": [
    {
     "data": {
      "text/plain": [
       "Start_Lat\n",
       "37.808    570\n",
       "33.941    568\n",
       "34.859    545\n",
       "42.477    534\n",
       "33.745    533\n",
       "         ... \n",
       "40.855      1\n",
       "38.224      1\n",
       "41.525      1\n",
       "41.521      1\n",
       "34.239      1\n",
       "Name: count, Length: 2428358, dtype: int64"
      ]
     },
     "execution_count": 77,
     "metadata": {},
     "output_type": "execute_result"
    }
   ],
   "source": [
    "df[\"Start_Lat\"].value_counts()"
   ]
  },
  {
   "cell_type": "code",
   "execution_count": 78,
   "id": "6b463cdf-dc81-42f7-aa82-b2be3abd4c77",
   "metadata": {},
   "outputs": [
    {
     "data": {
      "text/plain": [
       "Start_Lng\n",
       "-122.367    578\n",
       "-118.097    562\n",
       "-82.260     545\n",
       "-84.390     534\n",
       "-83.112     534\n",
       "           ... \n",
       "-117.401      1\n",
       "-118.429      1\n",
       "-121.742      1\n",
       "-121.891      1\n",
       "-117.848      1\n",
       "Name: count, Length: 2482533, dtype: int64"
      ]
     },
     "execution_count": 78,
     "metadata": {},
     "output_type": "execute_result"
    }
   ],
   "source": [
    "df[\"Start_Lng\"].value_counts()"
   ]
  },
  {
   "cell_type": "code",
   "execution_count": 79,
   "id": "2fc30b47-3a6c-4c93-978f-df1745ec7dc4",
   "metadata": {},
   "outputs": [
    {
     "data": {
      "text/plain": [
       "Street\n",
       "I-95 N                  78430\n",
       "I-95 S                  74528\n",
       "I-5 N                   71968\n",
       "I-10 E                  55572\n",
       "I-10 W                  53725\n",
       "                        ...  \n",
       "W Diamond Valley Dr         1\n",
       "S Jasper St                 1\n",
       "State RT 17 N               1\n",
       " S Lake Mary Jane Rd        1\n",
       "473-401 Cutoff Rd           1\n",
       "Name: count, Length: 336306, dtype: int64"
      ]
     },
     "execution_count": 79,
     "metadata": {},
     "output_type": "execute_result"
    }
   ],
   "source": [
    "df[\"Street\"].value_counts()"
   ]
  },
  {
   "cell_type": "code",
   "execution_count": 80,
   "id": "62f29c87-7405-4150-9cb5-3b03f58a933d",
   "metadata": {},
   "outputs": [
    {
     "data": {
      "text/plain": [
       "City\n",
       "Miami                           186917\n",
       "Houston                         169609\n",
       "Los Angeles                     156491\n",
       "Charlotte                       138652\n",
       "Dallas                          130939\n",
       "                                 ...  \n",
       "Benkelman                            1\n",
       "Old Appleton                         1\n",
       "Wildrose                             1\n",
       "Mc Nabb                              1\n",
       "American Fork-Pleasant Grove         1\n",
       "Name: count, Length: 13678, dtype: int64"
      ]
     },
     "execution_count": 80,
     "metadata": {},
     "output_type": "execute_result"
    }
   ],
   "source": [
    "df[\"City\"].value_counts()"
   ]
  },
  {
   "cell_type": "code",
   "execution_count": 81,
   "id": "ec0d7da9-19a4-427e-bf1a-9845f79729ed",
   "metadata": {},
   "outputs": [
    {
     "data": {
      "text/plain": [
       "County\n",
       "Los Angeles        526851\n",
       "Miami-Dade         251601\n",
       "Orange             241275\n",
       "Harris             181196\n",
       "Dallas             157024\n",
       "                    ...  \n",
       "Mclean                  1\n",
       "Poquoson (City)         1\n",
       "Dewitt                  1\n",
       "Frontier                1\n",
       "Ness                    1\n",
       "Name: count, Length: 1871, dtype: int64"
      ]
     },
     "execution_count": 81,
     "metadata": {},
     "output_type": "execute_result"
    }
   ],
   "source": [
    "df[\"County\"].value_counts()"
   ]
  },
  {
   "cell_type": "code",
   "execution_count": 82,
   "id": "8163ea17-c836-4160-bd21-04ec6d7e3b9d",
   "metadata": {},
   "outputs": [
    {
     "data": {
      "text/plain": [
       "State\n",
       "CA    1741433\n",
       "FL     880192\n",
       "TX     582837\n",
       "SC     382557\n",
       "NY     347960\n",
       "NC     338199\n",
       "VA     303301\n",
       "PA     296620\n",
       "MN     192084\n",
       "OR     179660\n",
       "AZ     170609\n",
       "GA     169234\n",
       "IL     168958\n",
       "TN     167388\n",
       "MI     162191\n",
       "LA     149701\n",
       "NJ     140719\n",
       "MD     140417\n",
       "OH     118115\n",
       "WA     108221\n",
       "AL     101044\n",
       "UT      97079\n",
       "CO      90885\n",
       "OK      83647\n",
       "MO      77323\n",
       "CT      71005\n",
       "IN      67224\n",
       "MA      61996\n",
       "WI      34688\n",
       "KY      32254\n",
       "NE      28870\n",
       "MT      28496\n",
       "IA      26307\n",
       "AR      22780\n",
       "NV      21665\n",
       "KS      20992\n",
       "DC      18630\n",
       "RI      16971\n",
       "MS      15181\n",
       "DE      14097\n",
       "WV      13793\n",
       "ID      11376\n",
       "NM      10325\n",
       "NH      10213\n",
       "WY       3757\n",
       "ND       3487\n",
       "ME       2698\n",
       "VT        926\n",
       "SD        289\n",
       "Name: count, dtype: int64"
      ]
     },
     "execution_count": 82,
     "metadata": {},
     "output_type": "execute_result"
    }
   ],
   "source": [
    "df[\"State\"].value_counts()"
   ]
  },
  {
   "cell_type": "code",
   "execution_count": 4,
   "id": "4efd4cb1-252b-44de-a3c2-d47a4b44c2fb",
   "metadata": {},
   "outputs": [
    {
     "name": "stdout",
     "output_type": "stream",
     "text": [
      "Collecting folium\n",
      "  Downloading folium-0.19.5-py2.py3-none-any.whl.metadata (4.1 kB)\n",
      "Collecting branca>=0.6.0 (from folium)\n",
      "  Downloading branca-0.8.1-py3-none-any.whl.metadata (1.5 kB)\n",
      "Requirement already satisfied: jinja2>=2.9 in c:\\users\\asus\\anaconda3\\lib\\site-packages (from folium) (3.1.4)\n",
      "Requirement already satisfied: numpy in c:\\users\\asus\\anaconda3\\lib\\site-packages (from folium) (1.26.4)\n",
      "Requirement already satisfied: requests in c:\\users\\asus\\anaconda3\\lib\\site-packages (from folium) (2.32.3)\n",
      "Requirement already satisfied: xyzservices in c:\\users\\asus\\anaconda3\\lib\\site-packages (from folium) (2022.9.0)\n",
      "Requirement already satisfied: MarkupSafe>=2.0 in c:\\users\\asus\\anaconda3\\lib\\site-packages (from jinja2>=2.9->folium) (2.1.3)\n",
      "Requirement already satisfied: charset-normalizer<4,>=2 in c:\\users\\asus\\anaconda3\\lib\\site-packages (from requests->folium) (3.3.2)\n",
      "Requirement already satisfied: idna<4,>=2.5 in c:\\users\\asus\\anaconda3\\lib\\site-packages (from requests->folium) (3.7)\n",
      "Requirement already satisfied: urllib3<3,>=1.21.1 in c:\\users\\asus\\anaconda3\\lib\\site-packages (from requests->folium) (2.2.3)\n",
      "Requirement already satisfied: certifi>=2017.4.17 in c:\\users\\asus\\anaconda3\\lib\\site-packages (from requests->folium) (2025.1.31)\n",
      "Downloading folium-0.19.5-py2.py3-none-any.whl (110 kB)\n",
      "Downloading branca-0.8.1-py3-none-any.whl (26 kB)\n",
      "Installing collected packages: branca, folium\n",
      "Successfully installed branca-0.8.1 folium-0.19.5\n"
     ]
    }
   ],
   "source": [
    "!pip install folium"
   ]
  },
  {
   "cell_type": "code",
   "execution_count": 6,
   "id": "d09877f6-34c3-49b4-ac19-c42dbeb33edf",
   "metadata": {},
   "outputs": [],
   "source": [
    "import folium"
   ]
  },
  {
   "cell_type": "code",
   "execution_count": 7,
   "id": "78264ef9-e1ed-465a-b26b-e9b801350464",
   "metadata": {},
   "outputs": [
    {
     "data": {
      "text/plain": [
       "(39.865147, -84.058723)"
      ]
     },
     "execution_count": 7,
     "metadata": {},
     "output_type": "execute_result"
    }
   ],
   "source": [
    "lat, lon = df.Start_Lat[0],df.Start_Lng[0]\n",
    "lat, lon"
   ]
  },
  {
   "cell_type": "code",
   "execution_count": 16,
   "id": "60b517ec-6d8d-4cd9-a6ca-56751a21da15",
   "metadata": {},
   "outputs": [
    {
     "name": "stdout",
     "output_type": "stream",
     "text": [
      "5252438   42.730\n",
      "4966504   29.041\n",
      "3253151   33.509\n",
      "1143257   29.717\n",
      "2987604   38.624\n",
      "           ...  \n",
      "4423526   38.986\n",
      "1109367   31.223\n",
      "306955    29.815\n",
      "3738755   33.917\n",
      "3958770   36.464\n",
      "Name: Start_Lat, Length: 100, dtype: float64\n",
      "5252438    -86.147\n",
      "4966504    -82.061\n",
      "3253151   -112.048\n",
      "1143257    -95.557\n",
      "2987604   -121.239\n",
      "            ...   \n",
      "4423526    -94.776\n",
      "1109367    -85.383\n",
      "306955     -95.376\n",
      "3738755   -118.046\n",
      "3958770    -77.518\n",
      "Name: Start_Lng, Length: 100, dtype: float64\n"
     ]
    }
   ],
   "source": [
    "for x in df[[\"Start_Lat\", \"Start_Lng\"]].sample(100).items():\n",
    "    print(x[1])"
   ]
  },
  {
   "cell_type": "code",
   "execution_count": 23,
   "id": "6440bfca-a2f3-45b5-8e3c-b16d84a5ceec",
   "metadata": {},
   "outputs": [],
   "source": [
    "zip = list(df.Start_Lat), list(df.Start_Lng)"
   ]
  },
  {
   "cell_type": "code",
   "execution_count": 26,
   "id": "b7b0b38c-5c54-455e-a4b4-e1239621c401",
   "metadata": {},
   "outputs": [],
   "source": [
    "from folium.plugins import HeatMap"
   ]
  },
  {
   "cell_type": "code",
   "execution_count": 29,
   "id": "47a7784a-7064-4d8f-b0b8-cd869694c0fe",
   "metadata": {},
   "outputs": [
    {
     "ename": "TypeError",
     "evalue": "'tuple' object is not callable",
     "output_type": "error",
     "traceback": [
      "\u001b[1;31m---------------------------------------------------------------------------\u001b[0m",
      "\u001b[1;31mTypeError\u001b[0m                                 Traceback (most recent call last)",
      "Cell \u001b[1;32mIn[29], line 2\u001b[0m\n\u001b[0;32m      1\u001b[0m sample_df \u001b[38;5;241m=\u001b[39m df\u001b[38;5;241m.\u001b[39msample(\u001b[38;5;28mint\u001b[39m(\u001b[38;5;241m0.001\u001b[39m \u001b[38;5;241m*\u001b[39m \u001b[38;5;28mlen\u001b[39m(df)))\n\u001b[1;32m----> 2\u001b[0m lat_lon_pairs \u001b[38;5;241m=\u001b[39m \u001b[38;5;28mzip\u001b[39m(\u001b[38;5;28mlist\u001b[39m(sample_df\u001b[38;5;241m.\u001b[39mStart_Lat), \u001b[38;5;28mlist\u001b[39m(sample_df\u001b[38;5;241m.\u001b[39mStart_Lng))\n",
      "\u001b[1;31mTypeError\u001b[0m: 'tuple' object is not callable"
     ]
    }
   ],
   "source": [
    "sample_df = df.sample(int(0.001 * len(df)))\n",
    "lat_lon_pairs = zip(list(sample_df.Start_Lat), list(sample_df.Start_Lng))"
   ]
  },
  {
   "cell_type": "code",
   "execution_count": 30,
   "id": "310db4a6-9add-4237-b749-d013063a5845",
   "metadata": {},
   "outputs": [
    {
     "ename": "NameError",
     "evalue": "name 'lat_lon_pairs' is not defined",
     "output_type": "error",
     "traceback": [
      "\u001b[1;31m---------------------------------------------------------------------------\u001b[0m",
      "\u001b[1;31mNameError\u001b[0m                                 Traceback (most recent call last)",
      "Cell \u001b[1;32mIn[30], line 3\u001b[0m\n\u001b[0;32m      1\u001b[0m \u001b[38;5;28mmap\u001b[39m \u001b[38;5;241m=\u001b[39m folium\u001b[38;5;241m.\u001b[39mMap()\n\u001b[1;32m----> 3\u001b[0m HeatMap(lat_lon_pairs)\u001b[38;5;241m.\u001b[39madd_to(\u001b[38;5;28mmap\u001b[39m)\n",
      "\u001b[1;31mNameError\u001b[0m: name 'lat_lon_pairs' is not defined"
     ]
    }
   ],
   "source": [
    "map = folium.Map()\n",
    "\n",
    "HeatMap(lat_lon_pairs).add_to(map)"
   ]
  },
  {
   "cell_type": "code",
   "execution_count": 9,
   "id": "5ea58829-4401-40f4-b178-afac96d656db",
   "metadata": {},
   "outputs": [
    {
     "data": {
      "text/html": [
       "<div style=\"width:100%;\"><div style=\"position:relative;width:100%;height:0;padding-bottom:60%;\"><span style=\"color:#565656\">Make this Notebook Trusted to load map: File -> Trust Notebook</span><iframe srcdoc=\"&lt;!DOCTYPE html&gt;\n",
       "&lt;html&gt;\n",
       "&lt;head&gt;\n",
       "    \n",
       "    &lt;meta http-equiv=&quot;content-type&quot; content=&quot;text/html; charset=UTF-8&quot; /&gt;\n",
       "    \n",
       "        &lt;script&gt;\n",
       "            L_NO_TOUCH = false;\n",
       "            L_DISABLE_3D = false;\n",
       "        &lt;/script&gt;\n",
       "    \n",
       "    &lt;style&gt;html, body {width: 100%;height: 100%;margin: 0;padding: 0;}&lt;/style&gt;\n",
       "    &lt;style&gt;#map {position:absolute;top:0;bottom:0;right:0;left:0;}&lt;/style&gt;\n",
       "    &lt;script src=&quot;https://cdn.jsdelivr.net/npm/leaflet@1.9.3/dist/leaflet.js&quot;&gt;&lt;/script&gt;\n",
       "    &lt;script src=&quot;https://code.jquery.com/jquery-3.7.1.min.js&quot;&gt;&lt;/script&gt;\n",
       "    &lt;script src=&quot;https://cdn.jsdelivr.net/npm/bootstrap@5.2.2/dist/js/bootstrap.bundle.min.js&quot;&gt;&lt;/script&gt;\n",
       "    &lt;script src=&quot;https://cdnjs.cloudflare.com/ajax/libs/Leaflet.awesome-markers/2.0.2/leaflet.awesome-markers.js&quot;&gt;&lt;/script&gt;\n",
       "    &lt;link rel=&quot;stylesheet&quot; href=&quot;https://cdn.jsdelivr.net/npm/leaflet@1.9.3/dist/leaflet.css&quot;/&gt;\n",
       "    &lt;link rel=&quot;stylesheet&quot; href=&quot;https://cdn.jsdelivr.net/npm/bootstrap@5.2.2/dist/css/bootstrap.min.css&quot;/&gt;\n",
       "    &lt;link rel=&quot;stylesheet&quot; href=&quot;https://netdna.bootstrapcdn.com/bootstrap/3.0.0/css/bootstrap-glyphicons.css&quot;/&gt;\n",
       "    &lt;link rel=&quot;stylesheet&quot; href=&quot;https://cdn.jsdelivr.net/npm/@fortawesome/fontawesome-free@6.2.0/css/all.min.css&quot;/&gt;\n",
       "    &lt;link rel=&quot;stylesheet&quot; href=&quot;https://cdnjs.cloudflare.com/ajax/libs/Leaflet.awesome-markers/2.0.2/leaflet.awesome-markers.css&quot;/&gt;\n",
       "    &lt;link rel=&quot;stylesheet&quot; href=&quot;https://cdn.jsdelivr.net/gh/python-visualization/folium/folium/templates/leaflet.awesome.rotate.min.css&quot;/&gt;\n",
       "    \n",
       "            &lt;meta name=&quot;viewport&quot; content=&quot;width=device-width,\n",
       "                initial-scale=1.0, maximum-scale=1.0, user-scalable=no&quot; /&gt;\n",
       "            &lt;style&gt;\n",
       "                #map_fb83f3cd4cb6db7de99c50938f3ac1f2 {\n",
       "                    position: relative;\n",
       "                    width: 100.0%;\n",
       "                    height: 100.0%;\n",
       "                    left: 0.0%;\n",
       "                    top: 0.0%;\n",
       "                }\n",
       "                .leaflet-container { font-size: 1rem; }\n",
       "            &lt;/style&gt;\n",
       "        \n",
       "&lt;/head&gt;\n",
       "&lt;body&gt;\n",
       "    \n",
       "    \n",
       "            &lt;div class=&quot;folium-map&quot; id=&quot;map_fb83f3cd4cb6db7de99c50938f3ac1f2&quot; &gt;&lt;/div&gt;\n",
       "        \n",
       "&lt;/body&gt;\n",
       "&lt;script&gt;\n",
       "    \n",
       "    \n",
       "            var map_fb83f3cd4cb6db7de99c50938f3ac1f2 = L.map(\n",
       "                &quot;map_fb83f3cd4cb6db7de99c50938f3ac1f2&quot;,\n",
       "                {\n",
       "                    center: [0.0, 0.0],\n",
       "                    crs: L.CRS.EPSG3857,\n",
       "                    ...{\n",
       "  &quot;zoom&quot;: 1,\n",
       "  &quot;zoomControl&quot;: true,\n",
       "  &quot;preferCanvas&quot;: false,\n",
       "}\n",
       "\n",
       "                }\n",
       "            );\n",
       "\n",
       "            \n",
       "\n",
       "        \n",
       "    \n",
       "            var tile_layer_71ba9eaade49ccc1ceeea136e6914342 = L.tileLayer(\n",
       "                &quot;https://tile.openstreetmap.org/{z}/{x}/{y}.png&quot;,\n",
       "                {\n",
       "  &quot;minZoom&quot;: 0,\n",
       "  &quot;maxZoom&quot;: 19,\n",
       "  &quot;maxNativeZoom&quot;: 19,\n",
       "  &quot;noWrap&quot;: false,\n",
       "  &quot;attribution&quot;: &quot;\\u0026copy; \\u003ca href=\\&quot;https://www.openstreetmap.org/copyright\\&quot;\\u003eOpenStreetMap\\u003c/a\\u003e contributors&quot;,\n",
       "  &quot;subdomains&quot;: &quot;abc&quot;,\n",
       "  &quot;detectRetina&quot;: false,\n",
       "  &quot;tms&quot;: false,\n",
       "  &quot;opacity&quot;: 1,\n",
       "}\n",
       "\n",
       "            );\n",
       "        \n",
       "    \n",
       "            tile_layer_71ba9eaade49ccc1ceeea136e6914342.addTo(map_fb83f3cd4cb6db7de99c50938f3ac1f2);\n",
       "        \n",
       "    \n",
       "            var marker_d6ca9b1096996e9cfe082d009baffba4 = L.marker(\n",
       "                [39.865147, -84.058723],\n",
       "                {\n",
       "}\n",
       "            ).addTo(map_fb83f3cd4cb6db7de99c50938f3ac1f2);\n",
       "        \n",
       "&lt;/script&gt;\n",
       "&lt;/html&gt;\" style=\"position:absolute;width:100%;height:100%;left:0;top:0;border:none !important;\" allowfullscreen webkitallowfullscreen mozallowfullscreen></iframe></div></div>"
      ],
      "text/plain": [
       "<folium.folium.Map at 0x19701961160>"
      ]
     },
     "execution_count": 9,
     "metadata": {},
     "output_type": "execute_result"
    }
   ],
   "source": [
    "map = folium.Map()\n",
    "for lat lon in \n",
    "marker = folium.Marker((lat,lon))\n",
    "marker.add_to(map)\n",
    "map"
   ]
  },
  {
   "cell_type": "code",
   "execution_count": null,
   "id": "ffc13461-306c-43b1-bd7c-203e33346489",
   "metadata": {},
   "outputs": [],
   "source": []
  },
  {
   "cell_type": "raw",
   "id": "e1d00162-02e5-4f3c-88e9-18d42a3154e7",
   "metadata": {},
   "source": [
    "'Source', 'Severity', 'Start_Time', 'End_Time', 'Start_Lat',\n",
    "       'Start_Lng', 'Street', 'City', 'County', 'State', 'Timezone',\n",
    "       'Weather_Timestamp', 'Temperature(F)', 'Wind_Chill(F)',\n",
    "       'Wind_Speed(mph)', 'Weather_Condition', 'Amenity', 'Bump', 'Crossing',\n",
    "       'Give_Way', 'Junction', 'No_Exit', 'Railway', 'Roundabout', 'Station',\n",
    "       'Stop', 'Traffic_Calming', 'Traffic_Signal', 'Turning_Loop',\n",
    "       'Sunrise_Sunset'"
   ]
  },
  {
   "cell_type": "markdown",
   "id": "3f57fec6-3b20-42ee-9aea-552c299a75ee",
   "metadata": {
    "jp-MarkdownHeadingCollapsed": true
   },
   "source": [
    "## *Data Cleaning*"
   ]
  },
  {
   "cell_type": "markdown",
   "id": "7164f8e2-2319-4403-9e11-8900caffedc2",
   "metadata": {},
   "source": [
    "**Droping the unnecessary columns as its making uuneasy to work with the data set**"
   ]
  },
  {
   "cell_type": "code",
   "execution_count": 3,
   "id": "e0f10b3e-b935-44d5-bd88-b5c4f75bedce",
   "metadata": {},
   "outputs": [],
   "source": [
    "df = df[[#'ID', \n",
    "       'Source', 'Severity', 'Start_Time', 'End_Time', 'Start_Lat',\n",
    "       'Start_Lng', #'End_Lat', 'End_Lng', 'Distance(mi)', 'Description',\n",
    "       'Street', 'City', 'County', 'State', #'Zipcode', 'Country', \n",
    "       'Timezone',\n",
    "       #'Airport_Code', \n",
    "       'Weather_Timestamp', 'Temperature(F)', 'Wind_Chill(F)',\n",
    "        # 'Humidity(%)', 'Pressure(in)', 'Visibility(mi)', 'Wind_Direction',\n",
    "       'Wind_Speed(mph)', #'Precipitation(in)', \n",
    "       'Weather_Condition', 'Amenity',\n",
    "       'Bump', 'Crossing', 'Give_Way', 'Junction', 'No_Exit', 'Railway',\n",
    "       'Roundabout', 'Station', 'Stop', 'Traffic_Calming', 'Traffic_Signal',\n",
    "       'Turning_Loop', 'Sunrise_Sunset'#, 'Civil_Twilight', 'Nautical_Twilight',\n",
    "        #'Astronomical_Twilight'\n",
    "        ]].copy()"
   ]
  },
  {
   "cell_type": "code",
   "execution_count": 23,
   "id": "8802bfd0-f518-46ac-ac35-f166b9edfe9d",
   "metadata": {},
   "outputs": [
    {
     "data": {
      "text/plain": [
       "Index(['Source', 'Severity', 'Start_Time', 'End_Time', 'Start_Lat',\n",
       "       'Start_Lng', 'Street', 'City', 'County', 'State', 'Timezone',\n",
       "       'Weather_Timestamp', 'Temperature(F)', 'Wind_Chill(F)',\n",
       "       'Wind_Speed(mph)', 'Weather_Condition', 'Amenity', 'Bump', 'Crossing',\n",
       "       'Give_Way', 'Junction', 'No_Exit', 'Railway', 'Roundabout', 'Station',\n",
       "       'Stop', 'Traffic_Calming', 'Traffic_Signal', 'Turning_Loop',\n",
       "       'Sunrise_Sunset'],\n",
       "      dtype='object')"
      ]
     },
     "execution_count": 23,
     "metadata": {},
     "output_type": "execute_result"
    }
   ],
   "source": [
    "df.columns"
   ]
  },
  {
   "cell_type": "code",
   "execution_count": 24,
   "id": "251c1fa1-7537-415c-bc78-b955e451698c",
   "metadata": {},
   "outputs": [
    {
     "data": {
      "text/html": [
       "<div>\n",
       "<style scoped>\n",
       "    .dataframe tbody tr th:only-of-type {\n",
       "        vertical-align: middle;\n",
       "    }\n",
       "\n",
       "    .dataframe tbody tr th {\n",
       "        vertical-align: top;\n",
       "    }\n",
       "\n",
       "    .dataframe thead th {\n",
       "        text-align: right;\n",
       "    }\n",
       "</style>\n",
       "<table border=\"1\" class=\"dataframe\">\n",
       "  <thead>\n",
       "    <tr style=\"text-align: right;\">\n",
       "      <th></th>\n",
       "      <th>Source</th>\n",
       "      <th>Severity</th>\n",
       "      <th>Start_Time</th>\n",
       "      <th>End_Time</th>\n",
       "      <th>Start_Lat</th>\n",
       "      <th>Start_Lng</th>\n",
       "      <th>Street</th>\n",
       "      <th>City</th>\n",
       "      <th>County</th>\n",
       "      <th>State</th>\n",
       "      <th>Timezone</th>\n",
       "      <th>Weather_Timestamp</th>\n",
       "      <th>Temperature(F)</th>\n",
       "      <th>Wind_Chill(F)</th>\n",
       "      <th>Wind_Speed(mph)</th>\n",
       "      <th>Weather_Condition</th>\n",
       "      <th>Amenity</th>\n",
       "      <th>Bump</th>\n",
       "      <th>Crossing</th>\n",
       "      <th>Give_Way</th>\n",
       "      <th>Junction</th>\n",
       "      <th>No_Exit</th>\n",
       "      <th>Railway</th>\n",
       "      <th>Roundabout</th>\n",
       "      <th>Station</th>\n",
       "      <th>Stop</th>\n",
       "      <th>Traffic_Calming</th>\n",
       "      <th>Traffic_Signal</th>\n",
       "      <th>Turning_Loop</th>\n",
       "      <th>Sunrise_Sunset</th>\n",
       "    </tr>\n",
       "  </thead>\n",
       "  <tbody>\n",
       "    <tr>\n",
       "      <th>0</th>\n",
       "      <td>Source2</td>\n",
       "      <td>3</td>\n",
       "      <td>2016-02-08 05:46:00</td>\n",
       "      <td>2016-02-08 11:00:00</td>\n",
       "      <td>39.865</td>\n",
       "      <td>-84.059</td>\n",
       "      <td>I-70 E</td>\n",
       "      <td>Dayton</td>\n",
       "      <td>Montgomery</td>\n",
       "      <td>OH</td>\n",
       "      <td>US/Eastern</td>\n",
       "      <td>2016-02-08 05:58:00</td>\n",
       "      <td>36.900</td>\n",
       "      <td>NaN</td>\n",
       "      <td>NaN</td>\n",
       "      <td>Light Rain</td>\n",
       "      <td>False</td>\n",
       "      <td>False</td>\n",
       "      <td>False</td>\n",
       "      <td>False</td>\n",
       "      <td>False</td>\n",
       "      <td>False</td>\n",
       "      <td>False</td>\n",
       "      <td>False</td>\n",
       "      <td>False</td>\n",
       "      <td>False</td>\n",
       "      <td>False</td>\n",
       "      <td>False</td>\n",
       "      <td>False</td>\n",
       "      <td>Night</td>\n",
       "    </tr>\n",
       "    <tr>\n",
       "      <th>1</th>\n",
       "      <td>Source2</td>\n",
       "      <td>2</td>\n",
       "      <td>2016-02-08 06:07:59</td>\n",
       "      <td>2016-02-08 06:37:59</td>\n",
       "      <td>39.928</td>\n",
       "      <td>-82.831</td>\n",
       "      <td>Brice Rd</td>\n",
       "      <td>Reynoldsburg</td>\n",
       "      <td>Franklin</td>\n",
       "      <td>OH</td>\n",
       "      <td>US/Eastern</td>\n",
       "      <td>2016-02-08 05:51:00</td>\n",
       "      <td>37.900</td>\n",
       "      <td>NaN</td>\n",
       "      <td>NaN</td>\n",
       "      <td>Light Rain</td>\n",
       "      <td>False</td>\n",
       "      <td>False</td>\n",
       "      <td>False</td>\n",
       "      <td>False</td>\n",
       "      <td>False</td>\n",
       "      <td>False</td>\n",
       "      <td>False</td>\n",
       "      <td>False</td>\n",
       "      <td>False</td>\n",
       "      <td>False</td>\n",
       "      <td>False</td>\n",
       "      <td>False</td>\n",
       "      <td>False</td>\n",
       "      <td>Night</td>\n",
       "    </tr>\n",
       "    <tr>\n",
       "      <th>2</th>\n",
       "      <td>Source2</td>\n",
       "      <td>2</td>\n",
       "      <td>2016-02-08 06:49:27</td>\n",
       "      <td>2016-02-08 07:19:27</td>\n",
       "      <td>39.063</td>\n",
       "      <td>-84.033</td>\n",
       "      <td>State Route 32</td>\n",
       "      <td>Williamsburg</td>\n",
       "      <td>Clermont</td>\n",
       "      <td>OH</td>\n",
       "      <td>US/Eastern</td>\n",
       "      <td>2016-02-08 06:56:00</td>\n",
       "      <td>36.000</td>\n",
       "      <td>33.300</td>\n",
       "      <td>3.500</td>\n",
       "      <td>Overcast</td>\n",
       "      <td>False</td>\n",
       "      <td>False</td>\n",
       "      <td>False</td>\n",
       "      <td>False</td>\n",
       "      <td>False</td>\n",
       "      <td>False</td>\n",
       "      <td>False</td>\n",
       "      <td>False</td>\n",
       "      <td>False</td>\n",
       "      <td>False</td>\n",
       "      <td>False</td>\n",
       "      <td>True</td>\n",
       "      <td>False</td>\n",
       "      <td>Night</td>\n",
       "    </tr>\n",
       "    <tr>\n",
       "      <th>3</th>\n",
       "      <td>Source2</td>\n",
       "      <td>3</td>\n",
       "      <td>2016-02-08 07:23:34</td>\n",
       "      <td>2016-02-08 07:53:34</td>\n",
       "      <td>39.748</td>\n",
       "      <td>-84.206</td>\n",
       "      <td>I-75 S</td>\n",
       "      <td>Dayton</td>\n",
       "      <td>Montgomery</td>\n",
       "      <td>OH</td>\n",
       "      <td>US/Eastern</td>\n",
       "      <td>2016-02-08 07:38:00</td>\n",
       "      <td>35.100</td>\n",
       "      <td>31.000</td>\n",
       "      <td>4.600</td>\n",
       "      <td>Mostly Cloudy</td>\n",
       "      <td>False</td>\n",
       "      <td>False</td>\n",
       "      <td>False</td>\n",
       "      <td>False</td>\n",
       "      <td>False</td>\n",
       "      <td>False</td>\n",
       "      <td>False</td>\n",
       "      <td>False</td>\n",
       "      <td>False</td>\n",
       "      <td>False</td>\n",
       "      <td>False</td>\n",
       "      <td>False</td>\n",
       "      <td>False</td>\n",
       "      <td>Night</td>\n",
       "    </tr>\n",
       "    <tr>\n",
       "      <th>4</th>\n",
       "      <td>Source2</td>\n",
       "      <td>2</td>\n",
       "      <td>2016-02-08 07:39:07</td>\n",
       "      <td>2016-02-08 08:09:07</td>\n",
       "      <td>39.628</td>\n",
       "      <td>-84.188</td>\n",
       "      <td>Miamisburg Centerville Rd</td>\n",
       "      <td>Dayton</td>\n",
       "      <td>Montgomery</td>\n",
       "      <td>OH</td>\n",
       "      <td>US/Eastern</td>\n",
       "      <td>2016-02-08 07:53:00</td>\n",
       "      <td>36.000</td>\n",
       "      <td>33.300</td>\n",
       "      <td>3.500</td>\n",
       "      <td>Mostly Cloudy</td>\n",
       "      <td>False</td>\n",
       "      <td>False</td>\n",
       "      <td>False</td>\n",
       "      <td>False</td>\n",
       "      <td>False</td>\n",
       "      <td>False</td>\n",
       "      <td>False</td>\n",
       "      <td>False</td>\n",
       "      <td>False</td>\n",
       "      <td>False</td>\n",
       "      <td>False</td>\n",
       "      <td>True</td>\n",
       "      <td>False</td>\n",
       "      <td>Day</td>\n",
       "    </tr>\n",
       "  </tbody>\n",
       "</table>\n",
       "</div>"
      ],
      "text/plain": [
       "    Source  Severity           Start_Time             End_Time  Start_Lat  \\\n",
       "0  Source2         3  2016-02-08 05:46:00  2016-02-08 11:00:00     39.865   \n",
       "1  Source2         2  2016-02-08 06:07:59  2016-02-08 06:37:59     39.928   \n",
       "2  Source2         2  2016-02-08 06:49:27  2016-02-08 07:19:27     39.063   \n",
       "3  Source2         3  2016-02-08 07:23:34  2016-02-08 07:53:34     39.748   \n",
       "4  Source2         2  2016-02-08 07:39:07  2016-02-08 08:09:07     39.628   \n",
       "\n",
       "   Start_Lng                     Street          City      County State  \\\n",
       "0    -84.059                     I-70 E        Dayton  Montgomery    OH   \n",
       "1    -82.831                   Brice Rd  Reynoldsburg    Franklin    OH   \n",
       "2    -84.033             State Route 32  Williamsburg    Clermont    OH   \n",
       "3    -84.206                     I-75 S        Dayton  Montgomery    OH   \n",
       "4    -84.188  Miamisburg Centerville Rd        Dayton  Montgomery    OH   \n",
       "\n",
       "     Timezone    Weather_Timestamp  Temperature(F)  Wind_Chill(F)  \\\n",
       "0  US/Eastern  2016-02-08 05:58:00          36.900            NaN   \n",
       "1  US/Eastern  2016-02-08 05:51:00          37.900            NaN   \n",
       "2  US/Eastern  2016-02-08 06:56:00          36.000         33.300   \n",
       "3  US/Eastern  2016-02-08 07:38:00          35.100         31.000   \n",
       "4  US/Eastern  2016-02-08 07:53:00          36.000         33.300   \n",
       "\n",
       "   Wind_Speed(mph) Weather_Condition  Amenity   Bump  Crossing  Give_Way  \\\n",
       "0              NaN        Light Rain    False  False     False     False   \n",
       "1              NaN        Light Rain    False  False     False     False   \n",
       "2            3.500          Overcast    False  False     False     False   \n",
       "3            4.600     Mostly Cloudy    False  False     False     False   \n",
       "4            3.500     Mostly Cloudy    False  False     False     False   \n",
       "\n",
       "   Junction  No_Exit  Railway  Roundabout  Station   Stop  Traffic_Calming  \\\n",
       "0     False    False    False       False    False  False            False   \n",
       "1     False    False    False       False    False  False            False   \n",
       "2     False    False    False       False    False  False            False   \n",
       "3     False    False    False       False    False  False            False   \n",
       "4     False    False    False       False    False  False            False   \n",
       "\n",
       "   Traffic_Signal  Turning_Loop Sunrise_Sunset  \n",
       "0           False         False          Night  \n",
       "1           False         False          Night  \n",
       "2            True         False          Night  \n",
       "3           False         False          Night  \n",
       "4            True         False            Day  "
      ]
     },
     "execution_count": 24,
     "metadata": {},
     "output_type": "execute_result"
    }
   ],
   "source": [
    "df.head()"
   ]
  },
  {
   "cell_type": "code",
   "execution_count": null,
   "id": "92da60cf-90be-442e-8a27-fee6231de01f",
   "metadata": {},
   "outputs": [],
   "source": [
    "**Date Time conversion**"
   ]
  },
  {
   "cell_type": "code",
   "execution_count": 26,
   "id": "708db7d1-8e92-4328-9ede-4a9a14b37f54",
   "metadata": {},
   "outputs": [
    {
     "data": {
      "text/plain": [
       "0    2016-02-08 05:46:00\n",
       "1    2016-02-08 06:07:59\n",
       "2    2016-02-08 06:49:27\n",
       "Name: Start_Time, dtype: object"
      ]
     },
     "execution_count": 26,
     "metadata": {},
     "output_type": "execute_result"
    }
   ],
   "source": [
    "df['Start_Time'].head(3)"
   ]
  },
  {
   "cell_type": "code",
   "execution_count": 29,
   "id": "db985019-5c63-41d7-862c-abdb566eef6d",
   "metadata": {},
   "outputs": [],
   "source": [
    "df['Start_Time'] = pd.to_datetime(df['Start_Time'], format='mixed')"
   ]
  },
  {
   "cell_type": "code",
   "execution_count": 31,
   "id": "0ca0cb43-bcc0-4a97-84bf-be8339487ae4",
   "metadata": {},
   "outputs": [
    {
     "data": {
      "text/plain": [
       "Timestamp('2016-02-08 05:46:00')"
      ]
     },
     "execution_count": 31,
     "metadata": {},
     "output_type": "execute_result"
    }
   ],
   "source": [
    "df.Start_Time[0]"
   ]
  },
  {
   "cell_type": "code",
   "execution_count": 33,
   "id": "4d44cef4-61a3-40f2-b062-85ca5d96827f",
   "metadata": {},
   "outputs": [
    {
     "data": {
      "text/plain": [
       "dtype('<M8[ns]')"
      ]
     },
     "execution_count": 33,
     "metadata": {},
     "output_type": "execute_result"
    }
   ],
   "source": [
    "df['Start_Time'].dtype"
   ]
  },
  {
   "cell_type": "code",
   "execution_count": 93,
   "id": "0784e2cf-81c6-42eb-b097-8fc3046e288a",
   "metadata": {},
   "outputs": [],
   "source": [
    "df.to_csv('output.csv', index=False)"
   ]
  },
  {
   "cell_type": "code",
   "execution_count": null,
   "id": "12da8c5d-b358-4d41-941a-7746dc6be75f",
   "metadata": {},
   "outputs": [],
   "source": []
  },
  {
   "cell_type": "code",
   "execution_count": null,
   "id": "e7dea17d-744c-42c9-967e-344d4d78c780",
   "metadata": {},
   "outputs": [],
   "source": []
  },
  {
   "cell_type": "code",
   "execution_count": null,
   "id": "3b1c0c7c-38a0-4a8e-b485-4a3a9d8a2e94",
   "metadata": {},
   "outputs": [],
   "source": []
  },
  {
   "cell_type": "code",
   "execution_count": null,
   "id": "0db436f9-df40-4501-ab5e-dcbcb8e169c7",
   "metadata": {},
   "outputs": [],
   "source": []
  },
  {
   "cell_type": "code",
   "execution_count": null,
   "id": "e70b540e-c343-4a0d-9715-1e61cec0b0d8",
   "metadata": {},
   "outputs": [],
   "source": []
  },
  {
   "cell_type": "code",
   "execution_count": null,
   "id": "757adc28-0e83-4aa2-8390-63e56188132b",
   "metadata": {},
   "outputs": [],
   "source": []
  },
  {
   "cell_type": "code",
   "execution_count": null,
   "id": "813d80b9-013a-4d62-aead-1f7c90fa399f",
   "metadata": {},
   "outputs": [],
   "source": []
  },
  {
   "cell_type": "code",
   "execution_count": null,
   "id": "8b415784-28ae-4969-a3de-024a0e7d001d",
   "metadata": {},
   "outputs": [],
   "source": []
  },
  {
   "cell_type": "code",
   "execution_count": null,
   "id": "5d79299a-c925-4a19-b762-0ff69931cccc",
   "metadata": {},
   "outputs": [],
   "source": []
  },
  {
   "cell_type": "code",
   "execution_count": null,
   "id": "f8dee6d1-ff0f-43e9-9b76-2581b6542537",
   "metadata": {},
   "outputs": [],
   "source": []
  },
  {
   "cell_type": "code",
   "execution_count": null,
   "id": "ddc1e71c-8238-4f4e-a95a-299a8d8790ea",
   "metadata": {},
   "outputs": [],
   "source": []
  },
  {
   "cell_type": "code",
   "execution_count": null,
   "id": "70e4a611-5116-4ec9-84f7-9ad9d42e39cf",
   "metadata": {},
   "outputs": [],
   "source": []
  },
  {
   "cell_type": "code",
   "execution_count": null,
   "id": "34098dd8-8df3-46d2-b7d4-f6897bffed83",
   "metadata": {},
   "outputs": [],
   "source": []
  },
  {
   "cell_type": "code",
   "execution_count": null,
   "id": "3dd7ffe0-50e7-43a3-b45b-ff07776329af",
   "metadata": {},
   "outputs": [],
   "source": []
  },
  {
   "cell_type": "code",
   "execution_count": null,
   "id": "7225fdee-9269-4b29-9df8-79a5925be560",
   "metadata": {},
   "outputs": [],
   "source": []
  },
  {
   "cell_type": "code",
   "execution_count": null,
   "id": "9a1a1a42-8374-451d-bba9-0da076cf8dee",
   "metadata": {},
   "outputs": [],
   "source": []
  },
  {
   "cell_type": "code",
   "execution_count": null,
   "id": "b0fcae4a-20d6-4500-b660-8be719e0a57a",
   "metadata": {},
   "outputs": [],
   "source": []
  },
  {
   "cell_type": "code",
   "execution_count": null,
   "id": "180cef30-1c90-4eb1-8b06-7d6c0b43fd38",
   "metadata": {},
   "outputs": [],
   "source": []
  },
  {
   "cell_type": "code",
   "execution_count": null,
   "id": "d6066c9f-1365-4796-95e3-a43ed5dc8e60",
   "metadata": {},
   "outputs": [],
   "source": []
  },
  {
   "cell_type": "code",
   "execution_count": null,
   "id": "81aa8304-6bbc-41bc-b305-755259735b3c",
   "metadata": {},
   "outputs": [],
   "source": []
  },
  {
   "cell_type": "code",
   "execution_count": null,
   "id": "2fab5f4b-2872-4610-b855-4869649b0ba8",
   "metadata": {},
   "outputs": [],
   "source": []
  },
  {
   "cell_type": "code",
   "execution_count": null,
   "id": "6391b4e3-a7ea-4307-8430-890026547b58",
   "metadata": {},
   "outputs": [],
   "source": []
  },
  {
   "cell_type": "code",
   "execution_count": null,
   "id": "9a205330-2006-4961-90c1-fe7dcb50d015",
   "metadata": {},
   "outputs": [],
   "source": []
  },
  {
   "cell_type": "code",
   "execution_count": null,
   "id": "a23a3dec-5e8d-4ebc-a431-a85c82290b67",
   "metadata": {},
   "outputs": [],
   "source": []
  },
  {
   "cell_type": "code",
   "execution_count": null,
   "id": "8981cd19-ef8b-49f1-9360-6d544c4f9c9c",
   "metadata": {},
   "outputs": [],
   "source": []
  },
  {
   "cell_type": "code",
   "execution_count": null,
   "id": "10a20ddf-3aac-4122-a9e4-40e205d05ec4",
   "metadata": {},
   "outputs": [],
   "source": []
  },
  {
   "cell_type": "code",
   "execution_count": null,
   "id": "ab0b6efb-0d6a-4228-a2f0-31835a2fd099",
   "metadata": {},
   "outputs": [],
   "source": []
  },
  {
   "cell_type": "code",
   "execution_count": null,
   "id": "f4fd4c09-0b77-4f1e-8df1-5719b54a9800",
   "metadata": {},
   "outputs": [],
   "source": []
  },
  {
   "cell_type": "code",
   "execution_count": null,
   "id": "2ff3612b-594e-4696-a4cc-139c05c80571",
   "metadata": {},
   "outputs": [],
   "source": []
  },
  {
   "cell_type": "code",
   "execution_count": null,
   "id": "3a3759f8-dab5-4a01-a80c-3893904b7ab5",
   "metadata": {},
   "outputs": [],
   "source": []
  },
  {
   "cell_type": "code",
   "execution_count": null,
   "id": "1514ee7b-a1b1-40dd-91e1-7c805b97cc46",
   "metadata": {},
   "outputs": [],
   "source": []
  },
  {
   "cell_type": "code",
   "execution_count": null,
   "id": "0cfcb189-174e-43fe-859e-039ff687b6b0",
   "metadata": {},
   "outputs": [],
   "source": []
  },
  {
   "cell_type": "code",
   "execution_count": null,
   "id": "6671467f-8b5f-4e92-b392-47d44971d149",
   "metadata": {},
   "outputs": [],
   "source": []
  },
  {
   "cell_type": "code",
   "execution_count": null,
   "id": "9bbfe5db-e243-42bc-8ca5-fe91af7fe100",
   "metadata": {},
   "outputs": [],
   "source": []
  },
  {
   "cell_type": "code",
   "execution_count": null,
   "id": "0b301ffe-209c-4d28-9a4b-97695a2ddd0e",
   "metadata": {},
   "outputs": [],
   "source": []
  },
  {
   "cell_type": "code",
   "execution_count": null,
   "id": "4431378f-b2ca-4fec-9b6c-f1d15ac3d7ca",
   "metadata": {},
   "outputs": [],
   "source": []
  },
  {
   "cell_type": "code",
   "execution_count": null,
   "id": "e72330d5-ab45-4dbc-8f87-acbf46654265",
   "metadata": {},
   "outputs": [],
   "source": []
  },
  {
   "cell_type": "code",
   "execution_count": null,
   "id": "b104c514-bdce-4ed9-86a5-da5109dde27e",
   "metadata": {},
   "outputs": [],
   "source": []
  },
  {
   "cell_type": "code",
   "execution_count": null,
   "id": "c71c8107-e2ad-4372-82cc-ab0b96af9608",
   "metadata": {},
   "outputs": [],
   "source": []
  },
  {
   "cell_type": "code",
   "execution_count": null,
   "id": "cb415080-4ab7-4805-813f-44ceb946d90c",
   "metadata": {},
   "outputs": [],
   "source": []
  },
  {
   "cell_type": "code",
   "execution_count": null,
   "id": "5953c2e1-8a35-4272-ab34-57003a95fb78",
   "metadata": {},
   "outputs": [],
   "source": []
  },
  {
   "cell_type": "code",
   "execution_count": null,
   "id": "9859b963-c546-4f9b-ad9e-c9f5c6d098af",
   "metadata": {},
   "outputs": [],
   "source": []
  },
  {
   "cell_type": "code",
   "execution_count": null,
   "id": "6d1052ad-a9c2-4b46-8c47-c814f5a3185f",
   "metadata": {},
   "outputs": [],
   "source": []
  },
  {
   "cell_type": "code",
   "execution_count": null,
   "id": "c4712752-0d0e-4422-91f9-291c848ba15e",
   "metadata": {},
   "outputs": [],
   "source": []
  },
  {
   "cell_type": "code",
   "execution_count": null,
   "id": "61c507e0-d165-40c6-9591-67c310316a15",
   "metadata": {},
   "outputs": [],
   "source": []
  },
  {
   "cell_type": "code",
   "execution_count": null,
   "id": "ce8a007a-8479-4723-bc16-212696bde824",
   "metadata": {},
   "outputs": [],
   "source": []
  },
  {
   "cell_type": "code",
   "execution_count": null,
   "id": "bed8cb31-efa4-4f32-91bf-2d3dee51f16d",
   "metadata": {},
   "outputs": [],
   "source": []
  },
  {
   "cell_type": "code",
   "execution_count": null,
   "id": "8b7003f9-fa8a-4505-afda-d63ba22bdf89",
   "metadata": {},
   "outputs": [],
   "source": []
  },
  {
   "cell_type": "code",
   "execution_count": null,
   "id": "99cd7f8d-b45c-432b-9957-853f53c45c05",
   "metadata": {},
   "outputs": [],
   "source": []
  },
  {
   "cell_type": "code",
   "execution_count": null,
   "id": "091d3a78-1d54-4387-ab9b-bf34974c5776",
   "metadata": {},
   "outputs": [],
   "source": []
  },
  {
   "cell_type": "code",
   "execution_count": null,
   "id": "8b23a1a3-cdc4-4b6e-b14f-9ab3cf57681f",
   "metadata": {},
   "outputs": [],
   "source": []
  },
  {
   "cell_type": "code",
   "execution_count": null,
   "id": "cb2d6fbd-6989-4596-a993-ad05e9884b72",
   "metadata": {},
   "outputs": [],
   "source": []
  },
  {
   "cell_type": "code",
   "execution_count": null,
   "id": "ea955972-be04-4cb2-b42c-b3d204ab918b",
   "metadata": {},
   "outputs": [],
   "source": []
  },
  {
   "cell_type": "code",
   "execution_count": null,
   "id": "c021174e-7caa-4dcd-ae1f-050539703fdd",
   "metadata": {},
   "outputs": [],
   "source": []
  },
  {
   "cell_type": "code",
   "execution_count": null,
   "id": "f442fbd0-f343-4428-aade-8b2709068f86",
   "metadata": {},
   "outputs": [],
   "source": []
  },
  {
   "cell_type": "code",
   "execution_count": null,
   "id": "16b0089b-e386-4d95-bd69-e59f4bebaa98",
   "metadata": {},
   "outputs": [],
   "source": []
  },
  {
   "cell_type": "code",
   "execution_count": null,
   "id": "a0cfbbf5-e74a-4d5d-be2d-37868ee4a7ae",
   "metadata": {},
   "outputs": [],
   "source": []
  },
  {
   "cell_type": "code",
   "execution_count": null,
   "id": "b0ea9599-0c30-4817-a388-994070a2922b",
   "metadata": {},
   "outputs": [],
   "source": []
  },
  {
   "cell_type": "code",
   "execution_count": null,
   "id": "9ea0195a-f0d0-4236-8f33-0935b6854385",
   "metadata": {},
   "outputs": [],
   "source": []
  },
  {
   "cell_type": "code",
   "execution_count": null,
   "id": "c2752355-9193-4b64-96c4-6be185f25f76",
   "metadata": {},
   "outputs": [],
   "source": []
  },
  {
   "cell_type": "code",
   "execution_count": null,
   "id": "11e86230-4971-46f3-a254-01b0ce22d47b",
   "metadata": {},
   "outputs": [],
   "source": []
  }
 ],
 "metadata": {
  "kernelspec": {
   "display_name": "Python 3 (ipykernel)",
   "language": "python",
   "name": "python3"
  },
  "language_info": {
   "codemirror_mode": {
    "name": "ipython",
    "version": 3
   },
   "file_extension": ".py",
   "mimetype": "text/x-python",
   "name": "python",
   "nbconvert_exporter": "python",
   "pygments_lexer": "ipython3",
   "version": "3.12.7"
  }
 },
 "nbformat": 4,
 "nbformat_minor": 5
}
